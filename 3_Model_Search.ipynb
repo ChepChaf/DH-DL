{
  "nbformat": 4,
  "nbformat_minor": 0,
  "metadata": {
    "colab": {
      "name": "Model Search.ipynb",
      "version": "0.3.2",
      "provenance": [],
      "collapsed_sections": [],
      "include_colab_link": true
    },
    "kernelspec": {
      "name": "python3",
      "display_name": "Python 3"
    },
    "accelerator": "TPU"
  },
  "cells": [
    {
      "cell_type": "markdown",
      "metadata": {
        "id": "view-in-github",
        "colab_type": "text"
      },
      "source": [
        "<a href=\"https://colab.research.google.com/github/ChepChaf/DH-DL/blob/master/Model_Search.ipynb\" target=\"_parent\"><img src=\"https://colab.research.google.com/assets/colab-badge.svg\" alt=\"Open In Colab\"/></a>"
      ]
    },
    {
      "cell_type": "code",
      "metadata": {
        "id": "d7ZPH4b_8m-2",
        "colab_type": "code",
        "colab": {}
      },
      "source": [
        "!pip3 install talos"
      ],
      "execution_count": 0,
      "outputs": []
    },
    {
      "cell_type": "code",
      "metadata": {
        "id": "NvXvNSxXm3zP",
        "colab_type": "code",
        "colab": {}
      },
      "source": [
        "import pandas as pd\n",
        "import numpy as np\n",
        "import matplotlib.pyplot as plt\n",
        "\n",
        "from sklearn.model_selection import train_test_split\n",
        "from sklearn.preprocessing import StandardScaler\n",
        "\n",
        "from keras.layers import Dense, Dropout, BatchNormalization\n",
        "from keras.models import Sequential\n",
        "from keras.callbacks import EarlyStopping, ModelCheckpoint, ReduceLROnPlateau\n",
        "\n",
        "import talos as ta\n",
        "from talos.utils import hidden_layers, early_stopper\n",
        "\n",
        "import time\n",
        "\n",
        "%matplotlib inline"
      ],
      "execution_count": 0,
      "outputs": []
    },
    {
      "cell_type": "code",
      "metadata": {
        "id": "pTDmnwBIbRbl",
        "colab_type": "code",
        "colab": {}
      },
      "source": [
        "from google.colab import drive\n",
        "drive.mount('/content/drive')"
      ],
      "execution_count": 0,
      "outputs": []
    },
    {
      "cell_type": "code",
      "metadata": {
        "id": "QATwmSNNtoeY",
        "colab_type": "code",
        "colab": {}
      },
      "source": [
        "# Importar data\n",
        "\n",
        "X, y = pd.read_pickle('X.pkl'), pd.read_pickle('y.pkl')\n",
        "\n",
        "X.head()"
      ],
      "execution_count": 0,
      "outputs": []
    },
    {
      "cell_type": "code",
      "metadata": {
        "id": "pcg_-3RinTF8",
        "colab_type": "code",
        "colab": {}
      },
      "source": [
        "y.head()"
      ],
      "execution_count": 0,
      "outputs": []
    },
    {
      "cell_type": "code",
      "metadata": {
        "id": "bbwKKv_3nTyM",
        "colab_type": "code",
        "colab": {}
      },
      "source": [
        "# Standarizar los valores\n",
        "\n",
        "X_train, X_test, y_train, y_test = train_test_split(X, y, test_size=0.15)\n",
        "\n",
        "\n",
        "scaler = StandardScaler()\n",
        "X_train = scaler.fit_transform(X_train)\n",
        "X_test = scaler.transform(X_test)"
      ],
      "execution_count": 0,
      "outputs": []
    },
    {
      "cell_type": "code",
      "metadata": {
        "id": "vLHbEmMorSy-",
        "colab_type": "code",
        "colab": {}
      },
      "source": [
        "# Callbacks:\n",
        "# EarlyStopping para evitar seguir entrenando cuando ya alcanzó el minimo en validación\n",
        "es = EarlyStopping(min_delta=0.001, patience=5, restore_best_weights=True)\n",
        "# ModelCheckpoint para guardar el mejor modelo entrenado en un archivo\n",
        "mchkp = ModelCheckpoint('initial-model.h5', save_best_only=False)\n",
        "# ReduceLROnPlateau para ir disminuyendo en learning rate cuando se acerque al minimo\n",
        "rlr = ReduceLROnPlateau()"
      ],
      "execution_count": 0,
      "outputs": []
    },
    {
      "cell_type": "code",
      "metadata": {
        "id": "cSprlxdKuQY4",
        "colab_type": "code",
        "colab": {}
      },
      "source": [
        "# Modelo inicial con valores escogidos a mano\n",
        "model = Sequential()\n",
        "model.add(Dense(128, input_shape=(X_train.shape[1],), activation='relu'))\n",
        "model.add(Dropout(0.25))\n",
        "model.add(Dense(128, activation='relu'))\n",
        "model.add(Dense(1))\n",
        "\n",
        "model.compile(optimizer='adam', loss='mean_squared_logarithmic_error', metrics=['mae'])\n",
        "history = model.fit(X_train, y_train, epochs=250, batch_size=2, validation_split=0.2, callbacks=[es, mchkp, rlr])"
      ],
      "execution_count": 0,
      "outputs": []
    },
    {
      "cell_type": "code",
      "metadata": {
        "id": "Dn_uv60hr5v0",
        "colab_type": "code",
        "colab": {}
      },
      "source": [
        "plt.figure(figsize=(8, 8))\n",
        "plt.plot(np.arange(len(history.history['loss'])), history.history['loss'], label='loss')\n",
        "plt.plot(np.arange(len(history.history['val_loss'])), history.history['val_loss'], label='val_loss')\n",
        "\n",
        "plt.show()"
      ],
      "execution_count": 0,
      "outputs": []
    },
    {
      "cell_type": "code",
      "metadata": {
        "id": "dAu2wQQcyo1g",
        "colab_type": "code",
        "colab": {}
      },
      "source": [
        "model.evaluate(X_test, y_test)"
      ],
      "execution_count": 0,
      "outputs": []
    },
    {
      "cell_type": "code",
      "metadata": {
        "id": "qrL2SEkTu-Zd",
        "colab_type": "code",
        "colab": {}
      },
      "source": [
        "predictions = model.predict(X_test)"
      ],
      "execution_count": 0,
      "outputs": []
    },
    {
      "cell_type": "code",
      "metadata": {
        "id": "TrvJuQ8Py03G",
        "colab_type": "code",
        "colab": {}
      },
      "source": [
        "plt.figure(figsize=(16, 8))\n",
        "plt.plot(np.arange(len(predictions)), predictions, color='r', linestyle='--', linewidth=2.0)\n",
        "plt.plot(np.arange(len(y_test)), y_test)"
      ],
      "execution_count": 0,
      "outputs": []
    },
    {
      "cell_type": "code",
      "metadata": {
        "id": "j1PYdLaCz73e",
        "colab_type": "code",
        "colab": {}
      },
      "source": [
        "df = pd.DataFrame(data={ 'predictions': predictions.flatten(), 'y_test': y_test.values })\n",
        "df.describe()"
      ],
      "execution_count": 0,
      "outputs": []
    },
    {
      "cell_type": "code",
      "metadata": {
        "id": "9CyBx2478oIA",
        "colab_type": "code",
        "colab": {}
      },
      "source": [
        "# Definir una función con el modelo para utilizar en la busqueda de hyperparametros con talos\n",
        "\n",
        "def ted_model(X_train, y_train, X_val, y_val, params):\n",
        "  rlr = ReduceLROnPlateau()\n",
        "\n",
        "  timestr = time.strftime(\"%Y%m%d-%H%M%S\")\n",
        "  \n",
        "  network = Sequential()\n",
        "  \n",
        "  network.add(Dense(params['first_neuron'], input_shape=(X_train.shape[1],), activation='relu'))\n",
        "  network.add(Dropout(params['dropout']))\n",
        "\n",
        "  hidden_layers(network, params, 1)\n",
        "  \n",
        "  network.add(BatchNormalization())\n",
        "  network.add(Dense(1))\n",
        "  \n",
        "  network.compile(optimizer=params['optimizer'], loss=params['loss'], metrics=['mae', 'mape'])\n",
        "  \n",
        "  out = network.fit(\n",
        "      X_train, y_train,\n",
        "      epochs=50,\n",
        "      batch_size=params['batch_size'],\n",
        "      validation_data=[X_val, y_val],\n",
        "      callbacks=[rlr]\n",
        "  )\n",
        "  \n",
        "  return out, network"
      ],
      "execution_count": 0,
      "outputs": []
    },
    {
      "cell_type": "code",
      "metadata": {
        "id": "Hzx1_LuZ-LW3",
        "colab_type": "code",
        "colab": {}
      },
      "source": [
        "# Este dictionary contiene los parametros a probar por talos\n",
        "# Estos valores los vamos eligiendo según lo que vemos que anda mejor con talos\n",
        "params = {\n",
        "    'first_neuron': [512, 256],\n",
        "    'activation': ['relu'],\n",
        "    'dropout': [0, 0.25],\n",
        "    'hidden_layers': [3, 4],\n",
        "    'shapes': ['brick'],\n",
        "    'optimizer': ['adam'],\n",
        "    'batch_size': [64, 128],\n",
        "    'loss': ['mean_squared_error']\n",
        "}"
      ],
      "execution_count": 0,
      "outputs": []
    },
    {
      "cell_type": "code",
      "metadata": {
        "id": "ajQT6_-pAM-b",
        "colab_type": "code",
        "colab": {}
      },
      "source": [
        "scan = ta.Scan(\n",
        "    X_train, y_train.values.reshape(-1, 1), \n",
        "    params=params, \n",
        "    model=ted_model, \n",
        "    experiment_name='7.1', \n",
        "    val_split=.2, \n",
        "    reduction_metric='val_loss',\n",
        "    minimize_loss=True,\n",
        "    clear_session=True\n",
        ")"
      ],
      "execution_count": 0,
      "outputs": []
    },
    {
      "cell_type": "code",
      "metadata": {
        "id": "BMkwGGO5blrG",
        "colab_type": "code",
        "colab": {}
      },
      "source": [
        "# Armar un zip con los resultados de la busqueda de talos\n",
        "ta.Deploy(scan, '7.1', metric='val_loss')"
      ],
      "execution_count": 0,
      "outputs": []
    },
    {
      "cell_type": "code",
      "metadata": {
        "id": "84WU6x38_Q8Z",
        "colab_type": "code",
        "colab": {}
      },
      "source": [
        "# Mover a google drive para no perderla si colab explota\n",
        "!cp /content/7.1.zip \"/content/drive/My Drive/talos_experiments/7.1.zip\"\n",
        "!cp -r /content/7.1 \"/content/drive/My Drive/talos_experiments/7.1\""
      ],
      "execution_count": 0,
      "outputs": []
    },
    {
      "cell_type": "markdown",
      "metadata": {
        "id": "RDJGEJjx1y-l",
        "colab_type": "text"
      },
      "source": [
        ""
      ]
    },
    {
      "cell_type": "code",
      "metadata": {
        "id": "LH65mR3VzuAG",
        "colab_type": "code",
        "colab": {}
      },
      "source": [
        "# El mejor modelo de este experimento\n",
        "scan.best_model(metric='val_loss').summary()"
      ],
      "execution_count": 0,
      "outputs": []
    },
    {
      "cell_type": "code",
      "metadata": {
        "id": "WOGQQ27e-qmI",
        "colab_type": "code",
        "colab": {}
      },
      "source": [
        "scan.data.sort_values('val_loss')"
      ],
      "execution_count": 0,
      "outputs": []
    }
  ]
}