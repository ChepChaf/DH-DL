{
  "nbformat": 4,
  "nbformat_minor": 0,
  "metadata": {
    "kernelspec": {
      "display_name": "Python 3",
      "language": "python",
      "name": "python3"
    },
    "language_info": {
      "codemirror_mode": {
        "name": "ipython",
        "version": 3
      },
      "file_extension": ".py",
      "mimetype": "text/x-python",
      "name": "python",
      "nbconvert_exporter": "python",
      "pygments_lexer": "ipython3",
      "version": "3.7.3"
    },
    "colab": {
      "name": "Copia de Cezar - TP 1-checkpoint.ipynb",
      "version": "0.3.2",
      "provenance": [],
      "collapsed_sections": [],
      "include_colab_link": true
    }
  },
  "cells": [
    {
      "cell_type": "markdown",
      "metadata": {
        "id": "view-in-github",
        "colab_type": "text"
      },
      "source": [
        "<a href=\"https://colab.research.google.com/github/ChepChaf/DH-DL/blob/master/Cezar_TP_1.ipynb\" target=\"_parent\"><img src=\"https://colab.research.google.com/assets/colab-badge.svg\" alt=\"Open In Colab\"/></a>"
      ]
    },
    {
      "cell_type": "markdown",
      "metadata": {
        "id": "0uncCCkHTYN1",
        "colab_type": "text"
      },
      "source": [
        "# Introducción\n",
        "\n",
        "*TED* es una organización sin fines de lucro dedicada a difundir ideas, generalmente en forma de conversaciones breves y contundentes. La organización nació en 1984 por iniciativa de Richard Saul Wurman y Harry Marks como una conferencia donde convergieron Tecnología, Entretenimiento y Diseño (de ahí las siglas TED). Actualmente, hay más de 3000 charlas TED disponibles para ver online, las cuales cubren una amplia variedad de temas, desde ciencia hasta negocios y asuntos globales.\n",
        "\n",
        "Contamos con un dataset que contiene información sobre todas las charlas TED subidas al sitio web oficial hasta el 21 de septiembre de 2017. Entre las variables, se incluyen el número de visualizaciones, el número de comentarios, descripciones, oradores y título de cada disertación. El dataset es de tamaño pequeño, pero tiene algunas particularidades a las que deberán prestarle atención, principalmente la cantidad de información almacenada de forma textual, que será necesario procesar y codificar adecuadamente.\n",
        "\n",
        "### Objetivos (elegir uno y focalizarse en él):\n",
        "\n",
        "● Entrenar y optimizar una red neuronal que se capaz de predecir la cantidad de visualizaciones que tendrá una charla en base a la información provista en el dataset.\n",
        "\n",
        "● Entrenar y optimizar una red neuronal que se capaz de predecir la categoría de una charla en base a la información provista en el dataset.\n",
        "\n",
        "\n",
        "### Requisitos y material a entregar\n",
        "La exploración, análisis y modelado de los datos deberán ser entregados en una Jupyter notebook que satisfaga los requerimientos del proyecto. La notebook deberá estar debidamente comentada. Además, los grupos deberán crear un repositorio para el proyecto en Github.\n",
        "\n",
        "Para la presentación en clase se deben armar algunos slides no técnicos para exponer en no más de 20 minutos (PPT o Google Slides). La presentación debe constar de una introducción (planteo del problema, la pregunta, la descripción del dataset, etc.), un desarrollo de los análisis realizados (análisis descriptivo, análisis de correlaciones preliminares, visualizaciones preliminares) y una exposición de los principales resultados de los modelos y conclusiones.\n",
        "\n",
        "### Fecha de entrega\n",
        "\n",
        "● El material deberá entregarse en la clase 13 del curso, día jueves 12 de septiembre.\n",
        "\n",
        "### Dataset\n",
        "\n",
        "El dataset contiene información sobre todas las charlas TED subidas al sitio web oficial hasta el 21 de septiembre de 2017. Las variables que se incluyen son:\n",
        "\n",
        "- comments: el número de comentarios de primer nivel realizados en la charla\n",
        "- description: una descripción de lo que se habla\n",
        "- duration: la duración de la charla en segundos\n",
        "- event: el evento TED/TEDx en el que tuvo lugar la charla\n",
        "- film_date: el Unix timestamp de la fecha de filmación\n",
        "- languages: número de lenguajes disponibles de la charla\n",
        "- main_speaker: nombre del principal orador\n",
        "- name: nombre oficial de la charla TED\n",
        "- num_speaker: cantidad de oradores\n",
        "- published_date: el Unix timestamp de la fecha de publicación\n",
        "- ratings: un diccionario de las diversas calificaciones otorgadas a la charla (inspiradora, fascinante, asombrosa, etc.)\n",
        "- related_talks: una lista de diccionarios de charlas recomendadas para ver a continuación\n",
        "- speaker_occupation: la ocupación del principal orador\n",
        "- tags: temas asociados a la charla\n",
        "- title: título de la charla\n",
        "- url: link al video\n",
        "- views: cantidad de visualizaciones de la charla\n",
        "\n",
        "### ¿Cómo empezar? Sugerencias\n",
        "\n",
        "Agreguen toda otra información construida a partir de los datos originales (o incluso información externa, por ejemplo, las transcripciones de las charlas) que consideren relevante y útil para resolver los objetivos planteados.\n",
        "\n",
        "El dataset fue publicado en la plataforma Kaggle, una suerte de red social de Data Scientists y practicantes de Machine Learning y Deep Learning. Aprovechen los kernels y discusiones del sitio, comenzar explorando los análisis que ya han hecho otras personas puede ser de mucha ayuda.\n",
        "\n",
        "En la presentación de los resultados tengan en cuenta que es altamente probable que la audiencia no tenga un nivel técnico, así que mantengan el lenguaje en un nivel accesible.\n",
        "\n",
        "En términos generales, recuerden las siguientes sugerencias:\n",
        "\n",
        "● Escribir un pseudocódigo antes de empezar a codear. Suele ser muy útil para darle un esquema y una lógica generales al análisis.\n",
        "\n",
        "● Leer la documentación de cualquier tecnología o herramienta de análisis que usen. A veces no hay tutoriales para todo y los documentos y las ayudas son fundamentales para entender el funcionamiento de las herramientas utilizadas.\n",
        "\n",
        "● Documentar todos los pasos, transformaciones, comandos y análisis que realicen.\n",
        "\n",
        "Recursos útiles\n",
        "\n",
        "● Documentación de la librería Keras\n",
        "\n",
        "● Kernel de análisis exploratorio del dataset"
      ]
    },
    {
      "cell_type": "code",
      "metadata": {
        "id": "Vh7MnrfDTYN4",
        "colab_type": "code",
        "colab": {}
      },
      "source": [
        "import pandas as pd\n",
        "import numpy as np\n",
        "import seaborn as sns\n",
        "%matplotlib inline"
      ],
      "execution_count": 0,
      "outputs": []
    },
    {
      "cell_type": "code",
      "metadata": {
        "id": "XgmCIR4BTb-p",
        "colab_type": "code",
        "outputId": "5671c12a-9fcc-41bd-acd1-aca60ce1c747",
        "colab": {
          "resources": {
            "http://localhost:8080/nbextensions/google.colab/files.js": {
              "data": "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",
              "ok": true,
              "headers": [
                [
                  "content-type",
                  "application/javascript"
                ]
              ],
              "status": 200,
              "status_text": ""
            }
          },
          "base_uri": "https://localhost:8080/",
          "height": 74
        }
      },
      "source": [
        "from google.colab import files\n",
        "uploaded = files.upload()"
      ],
      "execution_count": 0,
      "outputs": [
        {
          "output_type": "display_data",
          "data": {
            "text/html": [
              "\n",
              "     <input type=\"file\" id=\"files-8fabf2d9-b29d-4b2f-9004-de93a26832dc\" name=\"files[]\" multiple disabled />\n",
              "     <output id=\"result-8fabf2d9-b29d-4b2f-9004-de93a26832dc\">\n",
              "      Upload widget is only available when the cell has been executed in the\n",
              "      current browser session. Please rerun this cell to enable.\n",
              "      </output>\n",
              "      <script src=\"/nbextensions/google.colab/files.js\"></script> "
            ],
            "text/plain": [
              "<IPython.core.display.HTML object>"
            ]
          },
          "metadata": {
            "tags": []
          }
        },
        {
          "output_type": "stream",
          "text": [
            "Saving ted_main.csv to ted_main.csv\n"
          ],
          "name": "stdout"
        }
      ]
    },
    {
      "cell_type": "code",
      "metadata": {
        "scrolled": true,
        "id": "0sr-p-FoTYN7",
        "colab_type": "code",
        "outputId": "4666b8df-d3c8-4377-bc77-0862647e5733",
        "colab": {
          "base_uri": "https://localhost:8080/",
          "height": 598
        }
      },
      "source": [
        "ted_main = pd.read_csv('./ted_main.csv')\n",
        "ted_main.head()"
      ],
      "execution_count": 0,
      "outputs": [
        {
          "output_type": "execute_result",
          "data": {
            "text/html": [
              "<div>\n",
              "<style scoped>\n",
              "    .dataframe tbody tr th:only-of-type {\n",
              "        vertical-align: middle;\n",
              "    }\n",
              "\n",
              "    .dataframe tbody tr th {\n",
              "        vertical-align: top;\n",
              "    }\n",
              "\n",
              "    .dataframe thead th {\n",
              "        text-align: right;\n",
              "    }\n",
              "</style>\n",
              "<table border=\"1\" class=\"dataframe\">\n",
              "  <thead>\n",
              "    <tr style=\"text-align: right;\">\n",
              "      <th></th>\n",
              "      <th>comments</th>\n",
              "      <th>description</th>\n",
              "      <th>duration</th>\n",
              "      <th>event</th>\n",
              "      <th>film_date</th>\n",
              "      <th>languages</th>\n",
              "      <th>main_speaker</th>\n",
              "      <th>name</th>\n",
              "      <th>num_speaker</th>\n",
              "      <th>published_date</th>\n",
              "      <th>ratings</th>\n",
              "      <th>related_talks</th>\n",
              "      <th>speaker_occupation</th>\n",
              "      <th>tags</th>\n",
              "      <th>title</th>\n",
              "      <th>url</th>\n",
              "      <th>views</th>\n",
              "    </tr>\n",
              "  </thead>\n",
              "  <tbody>\n",
              "    <tr>\n",
              "      <th>0</th>\n",
              "      <td>4553</td>\n",
              "      <td>Sir Ken Robinson makes an entertaining and pro...</td>\n",
              "      <td>1164</td>\n",
              "      <td>TED2006</td>\n",
              "      <td>1140825600</td>\n",
              "      <td>60</td>\n",
              "      <td>Ken Robinson</td>\n",
              "      <td>Ken Robinson: Do schools kill creativity?</td>\n",
              "      <td>1</td>\n",
              "      <td>1151367060</td>\n",
              "      <td>[{'id': 7, 'name': 'Funny', 'count': 19645}, {...</td>\n",
              "      <td>[{'id': 865, 'hero': 'https://pe.tedcdn.com/im...</td>\n",
              "      <td>Author/educator</td>\n",
              "      <td>['children', 'creativity', 'culture', 'dance',...</td>\n",
              "      <td>Do schools kill creativity?</td>\n",
              "      <td>https://www.ted.com/talks/ken_robinson_says_sc...</td>\n",
              "      <td>47227110</td>\n",
              "    </tr>\n",
              "    <tr>\n",
              "      <th>1</th>\n",
              "      <td>265</td>\n",
              "      <td>With the same humor and humanity he exuded in ...</td>\n",
              "      <td>977</td>\n",
              "      <td>TED2006</td>\n",
              "      <td>1140825600</td>\n",
              "      <td>43</td>\n",
              "      <td>Al Gore</td>\n",
              "      <td>Al Gore: Averting the climate crisis</td>\n",
              "      <td>1</td>\n",
              "      <td>1151367060</td>\n",
              "      <td>[{'id': 7, 'name': 'Funny', 'count': 544}, {'i...</td>\n",
              "      <td>[{'id': 243, 'hero': 'https://pe.tedcdn.com/im...</td>\n",
              "      <td>Climate advocate</td>\n",
              "      <td>['alternative energy', 'cars', 'climate change...</td>\n",
              "      <td>Averting the climate crisis</td>\n",
              "      <td>https://www.ted.com/talks/al_gore_on_averting_...</td>\n",
              "      <td>3200520</td>\n",
              "    </tr>\n",
              "    <tr>\n",
              "      <th>2</th>\n",
              "      <td>124</td>\n",
              "      <td>New York Times columnist David Pogue takes aim...</td>\n",
              "      <td>1286</td>\n",
              "      <td>TED2006</td>\n",
              "      <td>1140739200</td>\n",
              "      <td>26</td>\n",
              "      <td>David Pogue</td>\n",
              "      <td>David Pogue: Simplicity sells</td>\n",
              "      <td>1</td>\n",
              "      <td>1151367060</td>\n",
              "      <td>[{'id': 7, 'name': 'Funny', 'count': 964}, {'i...</td>\n",
              "      <td>[{'id': 1725, 'hero': 'https://pe.tedcdn.com/i...</td>\n",
              "      <td>Technology columnist</td>\n",
              "      <td>['computers', 'entertainment', 'interface desi...</td>\n",
              "      <td>Simplicity sells</td>\n",
              "      <td>https://www.ted.com/talks/david_pogue_says_sim...</td>\n",
              "      <td>1636292</td>\n",
              "    </tr>\n",
              "    <tr>\n",
              "      <th>3</th>\n",
              "      <td>200</td>\n",
              "      <td>In an emotionally charged talk, MacArthur-winn...</td>\n",
              "      <td>1116</td>\n",
              "      <td>TED2006</td>\n",
              "      <td>1140912000</td>\n",
              "      <td>35</td>\n",
              "      <td>Majora Carter</td>\n",
              "      <td>Majora Carter: Greening the ghetto</td>\n",
              "      <td>1</td>\n",
              "      <td>1151367060</td>\n",
              "      <td>[{'id': 3, 'name': 'Courageous', 'count': 760}...</td>\n",
              "      <td>[{'id': 1041, 'hero': 'https://pe.tedcdn.com/i...</td>\n",
              "      <td>Activist for environmental justice</td>\n",
              "      <td>['MacArthur grant', 'activism', 'business', 'c...</td>\n",
              "      <td>Greening the ghetto</td>\n",
              "      <td>https://www.ted.com/talks/majora_carter_s_tale...</td>\n",
              "      <td>1697550</td>\n",
              "    </tr>\n",
              "    <tr>\n",
              "      <th>4</th>\n",
              "      <td>593</td>\n",
              "      <td>You've never seen data presented like this. Wi...</td>\n",
              "      <td>1190</td>\n",
              "      <td>TED2006</td>\n",
              "      <td>1140566400</td>\n",
              "      <td>48</td>\n",
              "      <td>Hans Rosling</td>\n",
              "      <td>Hans Rosling: The best stats you've ever seen</td>\n",
              "      <td>1</td>\n",
              "      <td>1151440680</td>\n",
              "      <td>[{'id': 9, 'name': 'Ingenious', 'count': 3202}...</td>\n",
              "      <td>[{'id': 2056, 'hero': 'https://pe.tedcdn.com/i...</td>\n",
              "      <td>Global health expert; data visionary</td>\n",
              "      <td>['Africa', 'Asia', 'Google', 'demo', 'economic...</td>\n",
              "      <td>The best stats you've ever seen</td>\n",
              "      <td>https://www.ted.com/talks/hans_rosling_shows_t...</td>\n",
              "      <td>12005869</td>\n",
              "    </tr>\n",
              "  </tbody>\n",
              "</table>\n",
              "</div>"
            ],
            "text/plain": [
              "   comments  ...     views\n",
              "0      4553  ...  47227110\n",
              "1       265  ...   3200520\n",
              "2       124  ...   1636292\n",
              "3       200  ...   1697550\n",
              "4       593  ...  12005869\n",
              "\n",
              "[5 rows x 17 columns]"
            ]
          },
          "metadata": {
            "tags": []
          },
          "execution_count": 4
        }
      ]
    },
    {
      "cell_type": "code",
      "metadata": {
        "scrolled": true,
        "id": "zZtzIErwTYOA",
        "colab_type": "code",
        "outputId": "58a5ab25-f982-4de5-f7dd-bfcd0dcee855",
        "colab": {
          "base_uri": "https://localhost:8080/",
          "height": 494
        }
      },
      "source": [
        "transcripts = pd.read_csv('./transcripts.csv')\n",
        "transcripts.head()"
      ],
      "execution_count": 0,
      "outputs": [
        {
          "output_type": "error",
          "ename": "ParserError",
          "evalue": "ignored",
          "traceback": [
            "\u001b[0;31m---------------------------------------------------------------------------\u001b[0m",
            "\u001b[0;31mParserError\u001b[0m                               Traceback (most recent call last)",
            "\u001b[0;32m<ipython-input-137-aeda2a9424ad>\u001b[0m in \u001b[0;36m<module>\u001b[0;34m()\u001b[0m\n\u001b[0;32m----> 1\u001b[0;31m \u001b[0mtranscripts\u001b[0m \u001b[0;34m=\u001b[0m \u001b[0mpd\u001b[0m\u001b[0;34m.\u001b[0m\u001b[0mread_csv\u001b[0m\u001b[0;34m(\u001b[0m\u001b[0;34m'./transcripts.csv'\u001b[0m\u001b[0;34m)\u001b[0m\u001b[0;34m\u001b[0m\u001b[0;34m\u001b[0m\u001b[0m\n\u001b[0m\u001b[1;32m      2\u001b[0m \u001b[0mtranscripts\u001b[0m\u001b[0;34m.\u001b[0m\u001b[0mhead\u001b[0m\u001b[0;34m(\u001b[0m\u001b[0;34m)\u001b[0m\u001b[0;34m\u001b[0m\u001b[0;34m\u001b[0m\u001b[0m\n",
            "\u001b[0;32m/usr/local/lib/python3.6/dist-packages/pandas/io/parsers.py\u001b[0m in \u001b[0;36mparser_f\u001b[0;34m(filepath_or_buffer, sep, delimiter, header, names, index_col, usecols, squeeze, prefix, mangle_dupe_cols, dtype, engine, converters, true_values, false_values, skipinitialspace, skiprows, skipfooter, nrows, na_values, keep_default_na, na_filter, verbose, skip_blank_lines, parse_dates, infer_datetime_format, keep_date_col, date_parser, dayfirst, iterator, chunksize, compression, thousands, decimal, lineterminator, quotechar, quoting, doublequote, escapechar, comment, encoding, dialect, tupleize_cols, error_bad_lines, warn_bad_lines, delim_whitespace, low_memory, memory_map, float_precision)\u001b[0m\n\u001b[1;32m    700\u001b[0m                     skip_blank_lines=skip_blank_lines)\n\u001b[1;32m    701\u001b[0m \u001b[0;34m\u001b[0m\u001b[0m\n\u001b[0;32m--> 702\u001b[0;31m         \u001b[0;32mreturn\u001b[0m \u001b[0m_read\u001b[0m\u001b[0;34m(\u001b[0m\u001b[0mfilepath_or_buffer\u001b[0m\u001b[0;34m,\u001b[0m \u001b[0mkwds\u001b[0m\u001b[0;34m)\u001b[0m\u001b[0;34m\u001b[0m\u001b[0;34m\u001b[0m\u001b[0m\n\u001b[0m\u001b[1;32m    703\u001b[0m \u001b[0;34m\u001b[0m\u001b[0m\n\u001b[1;32m    704\u001b[0m     \u001b[0mparser_f\u001b[0m\u001b[0;34m.\u001b[0m\u001b[0m__name__\u001b[0m \u001b[0;34m=\u001b[0m \u001b[0mname\u001b[0m\u001b[0;34m\u001b[0m\u001b[0;34m\u001b[0m\u001b[0m\n",
            "\u001b[0;32m/usr/local/lib/python3.6/dist-packages/pandas/io/parsers.py\u001b[0m in \u001b[0;36m_read\u001b[0;34m(filepath_or_buffer, kwds)\u001b[0m\n\u001b[1;32m    433\u001b[0m \u001b[0;34m\u001b[0m\u001b[0m\n\u001b[1;32m    434\u001b[0m     \u001b[0;32mtry\u001b[0m\u001b[0;34m:\u001b[0m\u001b[0;34m\u001b[0m\u001b[0;34m\u001b[0m\u001b[0m\n\u001b[0;32m--> 435\u001b[0;31m         \u001b[0mdata\u001b[0m \u001b[0;34m=\u001b[0m \u001b[0mparser\u001b[0m\u001b[0;34m.\u001b[0m\u001b[0mread\u001b[0m\u001b[0;34m(\u001b[0m\u001b[0mnrows\u001b[0m\u001b[0;34m)\u001b[0m\u001b[0;34m\u001b[0m\u001b[0;34m\u001b[0m\u001b[0m\n\u001b[0m\u001b[1;32m    436\u001b[0m     \u001b[0;32mfinally\u001b[0m\u001b[0;34m:\u001b[0m\u001b[0;34m\u001b[0m\u001b[0;34m\u001b[0m\u001b[0m\n\u001b[1;32m    437\u001b[0m         \u001b[0mparser\u001b[0m\u001b[0;34m.\u001b[0m\u001b[0mclose\u001b[0m\u001b[0;34m(\u001b[0m\u001b[0;34m)\u001b[0m\u001b[0;34m\u001b[0m\u001b[0;34m\u001b[0m\u001b[0m\n",
            "\u001b[0;32m/usr/local/lib/python3.6/dist-packages/pandas/io/parsers.py\u001b[0m in \u001b[0;36mread\u001b[0;34m(self, nrows)\u001b[0m\n\u001b[1;32m   1137\u001b[0m     \u001b[0;32mdef\u001b[0m \u001b[0mread\u001b[0m\u001b[0;34m(\u001b[0m\u001b[0mself\u001b[0m\u001b[0;34m,\u001b[0m \u001b[0mnrows\u001b[0m\u001b[0;34m=\u001b[0m\u001b[0;32mNone\u001b[0m\u001b[0;34m)\u001b[0m\u001b[0;34m:\u001b[0m\u001b[0;34m\u001b[0m\u001b[0;34m\u001b[0m\u001b[0m\n\u001b[1;32m   1138\u001b[0m         \u001b[0mnrows\u001b[0m \u001b[0;34m=\u001b[0m \u001b[0m_validate_integer\u001b[0m\u001b[0;34m(\u001b[0m\u001b[0;34m'nrows'\u001b[0m\u001b[0;34m,\u001b[0m \u001b[0mnrows\u001b[0m\u001b[0;34m)\u001b[0m\u001b[0;34m\u001b[0m\u001b[0;34m\u001b[0m\u001b[0m\n\u001b[0;32m-> 1139\u001b[0;31m         \u001b[0mret\u001b[0m \u001b[0;34m=\u001b[0m \u001b[0mself\u001b[0m\u001b[0;34m.\u001b[0m\u001b[0m_engine\u001b[0m\u001b[0;34m.\u001b[0m\u001b[0mread\u001b[0m\u001b[0;34m(\u001b[0m\u001b[0mnrows\u001b[0m\u001b[0;34m)\u001b[0m\u001b[0;34m\u001b[0m\u001b[0;34m\u001b[0m\u001b[0m\n\u001b[0m\u001b[1;32m   1140\u001b[0m \u001b[0;34m\u001b[0m\u001b[0m\n\u001b[1;32m   1141\u001b[0m         \u001b[0;31m# May alter columns / col_dict\u001b[0m\u001b[0;34m\u001b[0m\u001b[0;34m\u001b[0m\u001b[0;34m\u001b[0m\u001b[0m\n",
            "\u001b[0;32m/usr/local/lib/python3.6/dist-packages/pandas/io/parsers.py\u001b[0m in \u001b[0;36mread\u001b[0;34m(self, nrows)\u001b[0m\n\u001b[1;32m   1993\u001b[0m     \u001b[0;32mdef\u001b[0m \u001b[0mread\u001b[0m\u001b[0;34m(\u001b[0m\u001b[0mself\u001b[0m\u001b[0;34m,\u001b[0m \u001b[0mnrows\u001b[0m\u001b[0;34m=\u001b[0m\u001b[0;32mNone\u001b[0m\u001b[0;34m)\u001b[0m\u001b[0;34m:\u001b[0m\u001b[0;34m\u001b[0m\u001b[0;34m\u001b[0m\u001b[0m\n\u001b[1;32m   1994\u001b[0m         \u001b[0;32mtry\u001b[0m\u001b[0;34m:\u001b[0m\u001b[0;34m\u001b[0m\u001b[0;34m\u001b[0m\u001b[0m\n\u001b[0;32m-> 1995\u001b[0;31m             \u001b[0mdata\u001b[0m \u001b[0;34m=\u001b[0m \u001b[0mself\u001b[0m\u001b[0;34m.\u001b[0m\u001b[0m_reader\u001b[0m\u001b[0;34m.\u001b[0m\u001b[0mread\u001b[0m\u001b[0;34m(\u001b[0m\u001b[0mnrows\u001b[0m\u001b[0;34m)\u001b[0m\u001b[0;34m\u001b[0m\u001b[0;34m\u001b[0m\u001b[0m\n\u001b[0m\u001b[1;32m   1996\u001b[0m         \u001b[0;32mexcept\u001b[0m \u001b[0mStopIteration\u001b[0m\u001b[0;34m:\u001b[0m\u001b[0;34m\u001b[0m\u001b[0;34m\u001b[0m\u001b[0m\n\u001b[1;32m   1997\u001b[0m             \u001b[0;32mif\u001b[0m \u001b[0mself\u001b[0m\u001b[0;34m.\u001b[0m\u001b[0m_first_chunk\u001b[0m\u001b[0;34m:\u001b[0m\u001b[0;34m\u001b[0m\u001b[0;34m\u001b[0m\u001b[0m\n",
            "\u001b[0;32mpandas/_libs/parsers.pyx\u001b[0m in \u001b[0;36mpandas._libs.parsers.TextReader.read\u001b[0;34m()\u001b[0m\n",
            "\u001b[0;32mpandas/_libs/parsers.pyx\u001b[0m in \u001b[0;36mpandas._libs.parsers.TextReader._read_low_memory\u001b[0;34m()\u001b[0m\n",
            "\u001b[0;32mpandas/_libs/parsers.pyx\u001b[0m in \u001b[0;36mpandas._libs.parsers.TextReader._read_rows\u001b[0;34m()\u001b[0m\n",
            "\u001b[0;32mpandas/_libs/parsers.pyx\u001b[0m in \u001b[0;36mpandas._libs.parsers.TextReader._tokenize_rows\u001b[0;34m()\u001b[0m\n",
            "\u001b[0;32mpandas/_libs/parsers.pyx\u001b[0m in \u001b[0;36mpandas._libs.parsers.raise_parser_error\u001b[0;34m()\u001b[0m\n",
            "\u001b[0;31mParserError\u001b[0m: Error tokenizing data. C error: EOF inside string starting at row 886"
          ]
        }
      ]
    },
    {
      "cell_type": "markdown",
      "metadata": {
        "id": "--h6Fe-iTYOD",
        "colab_type": "text"
      },
      "source": [
        "Let's start by seeing if all the  values are present"
      ]
    },
    {
      "cell_type": "code",
      "metadata": {
        "id": "d-lw6w-2TYOE",
        "colab_type": "code",
        "colab": {}
      },
      "source": [
        "ted_main.info()"
      ],
      "execution_count": 0,
      "outputs": []
    },
    {
      "cell_type": "code",
      "metadata": {
        "id": "jAPcdoqyTYOH",
        "colab_type": "code",
        "colab": {}
      },
      "source": [
        "transcripts.info()"
      ],
      "execution_count": 0,
      "outputs": []
    },
    {
      "cell_type": "markdown",
      "metadata": {
        "id": "v-Ea78NeTYOK",
        "colab_type": "text"
      },
      "source": [
        "The are no null values, but not all of the events have a transcript."
      ]
    },
    {
      "cell_type": "markdown",
      "metadata": {
        "id": "lldJkMV-TYOK",
        "colab_type": "text"
      },
      "source": [
        "I will investigate the ones that don't have transcript"
      ]
    },
    {
      "cell_type": "code",
      "metadata": {
        "id": "8N4hyqaLTYOL",
        "colab_type": "code",
        "colab": {}
      },
      "source": [
        "untranscripted = ted_main[~ted_main['url'].isin(transcripts['url'])]"
      ],
      "execution_count": 0,
      "outputs": []
    },
    {
      "cell_type": "code",
      "metadata": {
        "id": "Hq58U2YWTYOO",
        "colab_type": "code",
        "colab": {}
      },
      "source": [
        "len(untranscripted)"
      ],
      "execution_count": 0,
      "outputs": []
    },
    {
      "cell_type": "code",
      "metadata": {
        "id": "ISj8NPF0TYOQ",
        "colab_type": "code",
        "colab": {}
      },
      "source": [
        "# Some where musical shows, let's filter those\n",
        "def is_show(tags):\n",
        "    entertainment_tags = ['entertainment', 'guitar', 'music', 'performance']\n",
        "    \n",
        "    for x in entertainment_tags:\n",
        "        if x in tags: return True\n",
        "    return False\n",
        "non_entertainment = untranscripted[~untranscripted['tags'].apply(lambda x: is_show(x))]"
      ],
      "execution_count": 0,
      "outputs": []
    },
    {
      "cell_type": "code",
      "metadata": {
        "id": "_SnPpoyYTYOU",
        "colab_type": "code",
        "colab": {}
      },
      "source": [
        "len(non_entertainment)"
      ],
      "execution_count": 0,
      "outputs": []
    },
    {
      "cell_type": "markdown",
      "metadata": {
        "id": "qicsAmQMTYOX",
        "colab_type": "text"
      },
      "source": [
        "There are 60 talks without transcripts, if we decide to use the transcripts to train the model we will have to remove those talks"
      ]
    },
    {
      "cell_type": "markdown",
      "metadata": {
        "id": "DqE2TAzgTYOZ",
        "colab_type": "text"
      },
      "source": [
        "I will assume that some features aren't important for any of our tasks:\n",
        "- event: Unique ID not relevant for now, except that we start crossing data with other sources\n",
        "- url: ID\n",
        "- ratings: We won't have that feature for new talks\n",
        "- related_talks: may be usefull but not for now\n",
        "- cooments: Won't have that for new talks"
      ]
    },
    {
      "cell_type": "code",
      "metadata": {
        "id": "Z_y813G0TYOa",
        "colab_type": "code",
        "colab": {}
      },
      "source": [
        "reduced_X = ted_main.drop(['event', 'url', 'ratings', 'related_talks', 'comments'], axis=1)\n",
        "reduced_X.head()"
      ],
      "execution_count": 0,
      "outputs": []
    },
    {
      "cell_type": "markdown",
      "metadata": {
        "id": "W7TEb-lFTYOd",
        "colab_type": "text"
      },
      "source": [
        "Let's map duration and languages correlation to views"
      ]
    },
    {
      "cell_type": "code",
      "metadata": {
        "id": "OE0Si3UVTYOe",
        "colab_type": "code",
        "colab": {}
      },
      "source": [
        "sns.scatterplot(x=ted_main['duration'], y=ted_main['views'])"
      ],
      "execution_count": 0,
      "outputs": []
    },
    {
      "cell_type": "code",
      "metadata": {
        "id": "o8tPkB6OTYOi",
        "colab_type": "code",
        "colab": {}
      },
      "source": [
        "sns.scatterplot(x=ted_main['languages'], y=ted_main['views'])"
      ],
      "execution_count": 0,
      "outputs": []
    },
    {
      "cell_type": "markdown",
      "metadata": {
        "id": "kDqh5O60TYOl",
        "colab_type": "text"
      },
      "source": [
        "The number of languages may have a little correlation to views but nothing to considerably.\n",
        "\n",
        "The same with talks that are too long."
      ]
    },
    {
      "cell_type": "code",
      "metadata": {
        "id": "CiDRPn9wTYOl",
        "colab_type": "code",
        "colab": {}
      },
      "source": [
        "sns.catplot(x='num_speaker', y='views', data=ted_main)"
      ],
      "execution_count": 0,
      "outputs": []
    },
    {
      "cell_type": "markdown",
      "metadata": {
        "id": "lx_v22wDTYOo",
        "colab_type": "text"
      },
      "source": [
        "Not many talks have more than one speaker, and those don't seem to do very good"
      ]
    },
    {
      "cell_type": "markdown",
      "metadata": {
        "id": "4wKQXAYSTYOp",
        "colab_type": "text"
      },
      "source": [
        "Tags to columns:"
      ]
    },
    {
      "cell_type": "code",
      "metadata": {
        "scrolled": true,
        "id": "91WAJ4QvTYOq",
        "colab_type": "code",
        "outputId": "0f7edcb1-9a41-4702-8e60-1225259a4a5d",
        "colab": {
          "base_uri": "https://localhost:8080/",
          "height": 1000
        }
      },
      "source": [
        "# Start by getting all the tags\n",
        "tag_ocurrences = ted_main['tags'].apply(lambda x: pd.eval(x, engine='python')).apply(pd.Series).stack().value_counts()\n",
        "print(tag_ocurrences)"
      ],
      "execution_count": 0,
      "outputs": [
        {
          "output_type": "stream",
          "text": [
            "technology           727\n",
            "science              567\n",
            "global issues        501\n",
            "culture              486\n",
            "TEDx                 450\n",
            "design               418\n",
            "business             348\n",
            "entertainment        299\n",
            "health               236\n",
            "innovation           229\n",
            "society              224\n",
            "art                  221\n",
            "social change        218\n",
            "future               195\n",
            "communication        191\n",
            "creativity           189\n",
            "biology              189\n",
            "humanity             182\n",
            "collaboration        174\n",
            "environment          165\n",
            "economics            164\n",
            "medicine             162\n",
            "brain                158\n",
            "activism             157\n",
            "education            153\n",
            "community            148\n",
            "history              146\n",
            "children             143\n",
            "TED Fellows          143\n",
            "invention            140\n",
            "                    ... \n",
            "glacier                4\n",
            "jazz                   4\n",
            "nuclear weapons        4\n",
            "urban                  4\n",
            "ants                   4\n",
            "vulnerability          4\n",
            "microfinance           4\n",
            "sleep                  4\n",
            "epidemiology           3\n",
            "mining                 3\n",
            "cello                  3\n",
            "novel                  3\n",
            "Brand                  3\n",
            "Moon                   3\n",
            "apes                   3\n",
            "Nobel prize            3\n",
            "forensics              3\n",
            "street art             3\n",
            "pandemic               3\n",
            "3d printing            3\n",
            "microsoft              3\n",
            "blockchain             3\n",
            "augmented reality      2\n",
            "origami                2\n",
            "evil                   2\n",
            "grammar                2\n",
            "testing                1\n",
            "skateboarding          1\n",
            "cloud                  1\n",
            "funny                  1\n",
            "Length: 416, dtype: int64\n"
          ],
          "name": "stdout"
        }
      ]
    },
    {
      "cell_type": "code",
      "metadata": {
        "scrolled": true,
        "id": "MG-mrShCTYOt",
        "colab_type": "code",
        "outputId": "ae43abdc-f3b3-46ee-824e-f747c85d4199",
        "colab": {
          "base_uri": "https://localhost:8080/",
          "height": 119
        }
      },
      "source": [
        "# Let's drop tags with 25 or less ocurrences\n",
        "tag_list = tag_ocurrences[tag_ocurrences > 150].index.values\n",
        "tag_list"
      ],
      "execution_count": 0,
      "outputs": [
        {
          "output_type": "execute_result",
          "data": {
            "text/plain": [
              "array(['technology', 'science', 'global issues', 'culture', 'TEDx',\n",
              "       'design', 'business', 'entertainment', 'health', 'innovation',\n",
              "       'society', 'art', 'social change', 'future', 'communication',\n",
              "       'creativity', 'biology', 'humanity', 'collaboration',\n",
              "       'environment', 'economics', 'medicine', 'brain', 'activism',\n",
              "       'education'], dtype=object)"
            ]
          },
          "metadata": {
            "tags": []
          },
          "execution_count": 6
        }
      ]
    },
    {
      "cell_type": "code",
      "metadata": {
        "id": "jsERTqXoTYOw",
        "colab_type": "code",
        "colab": {}
      },
      "source": [
        "def tag_list_to_df(tags, tag_list):\n",
        "    row = []\n",
        "    for tag in tag_list:\n",
        "        row.append(1 if tag in tags else 0)\n",
        "    return pd.Series(row)"
      ],
      "execution_count": 0,
      "outputs": []
    },
    {
      "cell_type": "code",
      "metadata": {
        "id": "G6QN5i8jTYO5",
        "colab_type": "code",
        "colab": {}
      },
      "source": [
        "tags = pd.DataFrame(\n",
        "    ted_main['tags'].apply(lambda x: tag_list_to_df(x, tag_list)))\n",
        "tags.columns = tag_list\n",
        "X_with_tags = ted_main.drop('tags', axis=1).join(tags)"
      ],
      "execution_count": 0,
      "outputs": []
    },
    {
      "cell_type": "code",
      "metadata": {
        "id": "L5yQoOV_WVWX",
        "colab_type": "code",
        "outputId": "e50de924-e0fa-4ef7-ffe3-1fb651f68e18",
        "colab": {
          "base_uri": "https://localhost:8080/",
          "height": 170
        }
      },
      "source": [
        "X_with_tags.columns"
      ],
      "execution_count": 0,
      "outputs": [
        {
          "output_type": "execute_result",
          "data": {
            "text/plain": [
              "Index(['comments', 'description', 'duration', 'event', 'film_date',\n",
              "       'languages', 'main_speaker', 'name', 'num_speaker', 'published_date',\n",
              "       'ratings', 'related_talks', 'speaker_occupation', 'title', 'url',\n",
              "       'views', 'technology', 'science', 'global issues', 'culture', 'TEDx',\n",
              "       'design', 'business', 'entertainment', 'health', 'innovation',\n",
              "       'society', 'art', 'social change', 'future', 'communication',\n",
              "       'creativity', 'biology', 'humanity', 'collaboration', 'environment',\n",
              "       'economics', 'medicine', 'brain', 'activism', 'education'],\n",
              "      dtype='object')"
            ]
          },
          "metadata": {
            "tags": []
          },
          "execution_count": 9
        }
      ]
    },
    {
      "cell_type": "code",
      "metadata": {
        "id": "hE2uTEQQWQ5W",
        "colab_type": "code",
        "colab": {}
      },
      "source": [
        "X = X_with_tags.drop(['comments', 'description', 'event', 'film_date', 'main_speaker', 'name',\n",
        "                     'published_date', 'ratings', 'related_talks', 'speaker_occupation',\n",
        "                     'title', 'url', 'views'], axis=1)\n",
        "y = X_with_tags['views']"
      ],
      "execution_count": 0,
      "outputs": []
    },
    {
      "cell_type": "code",
      "metadata": {
        "id": "UnHXv3eqWI2-",
        "colab_type": "code",
        "colab": {}
      },
      "source": [
        "from sklearn.model_selection import train_test_split\n",
        "\n",
        "X_train, X_test, y_train, y_test = train_test_split(X, y, test_size=0.2)"
      ],
      "execution_count": 0,
      "outputs": []
    },
    {
      "cell_type": "code",
      "metadata": {
        "id": "Mz2gmzCmW3GH",
        "colab_type": "code",
        "outputId": "7db75db3-d98d-4d0b-d5b4-ba1e6bac2db0",
        "colab": {
          "base_uri": "https://localhost:8080/",
          "height": 85
        }
      },
      "source": [
        "print(\"X_train shape: \", X_train.shape)\n",
        "print(\"y_train shape: \", y_train.shape)\n",
        "print(\"X_test shape: \", X_test.shape)\n",
        "print(\"y_test shape: \", y_test.shape)"
      ],
      "execution_count": 0,
      "outputs": [
        {
          "output_type": "stream",
          "text": [
            "X_train shape:  (2040, 28)\n",
            "y_train shape:  (2040,)\n",
            "X_test shape:  (510, 28)\n",
            "y_test shape:  (510,)\n"
          ],
          "name": "stdout"
        }
      ]
    },
    {
      "cell_type": "code",
      "metadata": {
        "id": "FkkHYrBwV-hB",
        "colab_type": "code",
        "colab": {}
      },
      "source": [
        "from sklearn.preprocessing import StandardScaler\n",
        "\n",
        "scaler = StandardScaler()\n",
        "X_train = scaler.fit_transform(X_train)\n",
        "X_test = scaler.transform(X_test)\n",
        "\n",
        "y_log_train = np.log(y_train.values)\n",
        "y_log_test = np.log(y_test.values)"
      ],
      "execution_count": 0,
      "outputs": []
    },
    {
      "cell_type": "code",
      "metadata": {
        "id": "FqVu2NOxXNV3",
        "colab_type": "code",
        "outputId": "0700231c-1a16-4522-b94a-671bb43566aa",
        "colab": {
          "base_uri": "https://localhost:8080/",
          "height": 258
        }
      },
      "source": [
        "from keras.models import Sequential\n",
        "from keras.layers import Dense, Dropout\n",
        "from keras.optimizers import RMSprop\n",
        "\n",
        "model = Sequential()\n",
        "model.add(Dense(512, input_shape=(X_train.shape[1], ), activation='relu'))\n",
        "model.add(Dropout(0.2))\n",
        "model.add(Dense(512, activation='relu'))\n",
        "model.add(Dropout(0.2))\n",
        "model.add(Dense(256, activation='relu'))\n",
        "model.add(Dropout(0.4))\n",
        "model.add(Dense(128, activation='relu'))\n",
        "model.add(Dense(64, activation='relu'))\n",
        "model.add(Dropout(0.4))\n",
        "model.add(Dense(16, activation='relu'))\n",
        "model.add(Dense(1))"
      ],
      "execution_count": 0,
      "outputs": [
        {
          "output_type": "stream",
          "text": [
            "Using TensorFlow backend.\n",
            "WARNING: Logging before flag parsing goes to stderr.\n",
            "W0829 23:36:02.815179 140570064955264 deprecation_wrapper.py:119] From /usr/local/lib/python3.6/dist-packages/keras/backend/tensorflow_backend.py:66: The name tf.get_default_graph is deprecated. Please use tf.compat.v1.get_default_graph instead.\n",
            "\n",
            "W0829 23:36:02.858227 140570064955264 deprecation_wrapper.py:119] From /usr/local/lib/python3.6/dist-packages/keras/backend/tensorflow_backend.py:541: The name tf.placeholder is deprecated. Please use tf.compat.v1.placeholder instead.\n",
            "\n",
            "W0829 23:36:02.865142 140570064955264 deprecation_wrapper.py:119] From /usr/local/lib/python3.6/dist-packages/keras/backend/tensorflow_backend.py:4432: The name tf.random_uniform is deprecated. Please use tf.random.uniform instead.\n",
            "\n",
            "W0829 23:36:02.889862 140570064955264 deprecation_wrapper.py:119] From /usr/local/lib/python3.6/dist-packages/keras/backend/tensorflow_backend.py:148: The name tf.placeholder_with_default is deprecated. Please use tf.compat.v1.placeholder_with_default instead.\n",
            "\n",
            "W0829 23:36:02.901324 140570064955264 deprecation.py:506] From /usr/local/lib/python3.6/dist-packages/keras/backend/tensorflow_backend.py:3733: calling dropout (from tensorflow.python.ops.nn_ops) with keep_prob is deprecated and will be removed in a future version.\n",
            "Instructions for updating:\n",
            "Please use `rate` instead of `keep_prob`. Rate should be set to `rate = 1 - keep_prob`.\n"
          ],
          "name": "stderr"
        }
      ]
    },
    {
      "cell_type": "code",
      "metadata": {
        "id": "iX85pWBSaZBb",
        "colab_type": "code",
        "colab": {}
      },
      "source": [
        "rmsprop = RMSprop(lr=0.0015)"
      ],
      "execution_count": 0,
      "outputs": []
    },
    {
      "cell_type": "code",
      "metadata": {
        "id": "4-3cm9uzXoHK",
        "colab_type": "code",
        "colab": {}
      },
      "source": [
        "model.compile(optimizer=rmsprop, loss='mean_squared_logarithmic_error', metrics=['mae'])"
      ],
      "execution_count": 0,
      "outputs": []
    },
    {
      "cell_type": "code",
      "metadata": {
        "id": "QH5HAsDkfoCV",
        "colab_type": "code",
        "outputId": "5f341575-265a-48e3-8383-ad872bbf7f24",
        "colab": {
          "base_uri": "https://localhost:8080/",
          "height": 527
        }
      },
      "source": [
        "model.summary()"
      ],
      "execution_count": 0,
      "outputs": [
        {
          "output_type": "stream",
          "text": [
            "Model: \"sequential_1\"\n",
            "_________________________________________________________________\n",
            "Layer (type)                 Output Shape              Param #   \n",
            "=================================================================\n",
            "dense_1 (Dense)              (None, 512)               14848     \n",
            "_________________________________________________________________\n",
            "dropout_1 (Dropout)          (None, 512)               0         \n",
            "_________________________________________________________________\n",
            "dense_2 (Dense)              (None, 512)               262656    \n",
            "_________________________________________________________________\n",
            "dropout_2 (Dropout)          (None, 512)               0         \n",
            "_________________________________________________________________\n",
            "dense_3 (Dense)              (None, 256)               131328    \n",
            "_________________________________________________________________\n",
            "dropout_3 (Dropout)          (None, 256)               0         \n",
            "_________________________________________________________________\n",
            "dense_4 (Dense)              (None, 128)               32896     \n",
            "_________________________________________________________________\n",
            "dense_5 (Dense)              (None, 64)                8256      \n",
            "_________________________________________________________________\n",
            "dropout_4 (Dropout)          (None, 64)                0         \n",
            "_________________________________________________________________\n",
            "dense_6 (Dense)              (None, 16)                1040      \n",
            "_________________________________________________________________\n",
            "dense_7 (Dense)              (None, 1)                 17        \n",
            "=================================================================\n",
            "Total params: 451,041\n",
            "Trainable params: 451,041\n",
            "Non-trainable params: 0\n",
            "_________________________________________________________________\n"
          ],
          "name": "stdout"
        }
      ]
    },
    {
      "cell_type": "code",
      "metadata": {
        "id": "SafG90w2eCu7",
        "colab_type": "code",
        "colab": {}
      },
      "source": [
        "from keras.callbacks import EarlyStopping\n",
        "\n",
        "es = EarlyStopping(monitor='val_loss', patience=10, restore_best_weights=True)"
      ],
      "execution_count": 0,
      "outputs": []
    },
    {
      "cell_type": "code",
      "metadata": {
        "id": "-2BKaS9mXyd2",
        "colab_type": "code",
        "outputId": "89162242-06b4-4fbf-fb1f-77e470b08291",
        "colab": {
          "base_uri": "https://localhost:8080/",
          "height": 1000
        }
      },
      "source": [
        "model.fit(X_train, y_log_train, epochs=5000, batch_size=4, validation_split=0.2, callbacks=[es])"
      ],
      "execution_count": 0,
      "outputs": [
        {
          "output_type": "stream",
          "text": [
            "Train on 1632 samples, validate on 408 samples\n",
            "Epoch 1/5000\n",
            "1632/1632 [==============================] - 4s 2ms/step - loss: 0.0444 - mean_absolute_error: 2.4352 - val_loss: 0.0760 - val_mean_absolute_error: 3.5699\n",
            "Epoch 2/5000\n",
            "1632/1632 [==============================] - 3s 2ms/step - loss: 0.0296 - mean_absolute_error: 2.0925 - val_loss: 0.0364 - val_mean_absolute_error: 2.5274\n",
            "Epoch 3/5000\n",
            "1632/1632 [==============================] - 3s 2ms/step - loss: 0.0273 - mean_absolute_error: 1.9574 - val_loss: 0.0103 - val_mean_absolute_error: 1.2380\n",
            "Epoch 4/5000\n",
            "1632/1632 [==============================] - 3s 2ms/step - loss: 0.0290 - mean_absolute_error: 2.0379 - val_loss: 0.0584 - val_mean_absolute_error: 3.1588\n",
            "Epoch 5/5000\n",
            "1632/1632 [==============================] - 3s 2ms/step - loss: 0.0338 - mean_absolute_error: 2.1715 - val_loss: 0.0280 - val_mean_absolute_error: 2.2084\n",
            "Epoch 6/5000\n",
            "1632/1632 [==============================] - 3s 2ms/step - loss: 0.0267 - mean_absolute_error: 1.9272 - val_loss: 0.0121 - val_mean_absolute_error: 1.4155\n",
            "Epoch 7/5000\n",
            "1632/1632 [==============================] - 3s 2ms/step - loss: 0.0267 - mean_absolute_error: 1.9344 - val_loss: 0.0497 - val_mean_absolute_error: 2.9360\n",
            "Epoch 8/5000\n",
            "1632/1632 [==============================] - 3s 2ms/step - loss: 0.0292 - mean_absolute_error: 1.9761 - val_loss: 0.0390 - val_mean_absolute_error: 3.0903\n",
            "Epoch 9/5000\n",
            "1632/1632 [==============================] - 3s 2ms/step - loss: 0.0258 - mean_absolute_error: 1.8593 - val_loss: 0.0567 - val_mean_absolute_error: 3.1285\n",
            "Epoch 10/5000\n",
            "1632/1632 [==============================] - 3s 2ms/step - loss: 0.0283 - mean_absolute_error: 1.9501 - val_loss: 0.0031 - val_mean_absolute_error: 0.6479\n",
            "Epoch 11/5000\n",
            "1632/1632 [==============================] - 3s 2ms/step - loss: 0.0246 - mean_absolute_error: 1.8339 - val_loss: 0.0175 - val_mean_absolute_error: 1.7436\n",
            "Epoch 12/5000\n",
            "1632/1632 [==============================] - 3s 2ms/step - loss: 0.0223 - mean_absolute_error: 1.7008 - val_loss: 0.1096 - val_mean_absolute_error: 4.2040\n",
            "Epoch 13/5000\n",
            "1632/1632 [==============================] - 3s 2ms/step - loss: 0.0183 - mean_absolute_error: 1.5975 - val_loss: 0.0784 - val_mean_absolute_error: 3.6318\n",
            "Epoch 14/5000\n",
            "1632/1632 [==============================] - 3s 2ms/step - loss: 0.0171 - mean_absolute_error: 1.5218 - val_loss: 0.0945 - val_mean_absolute_error: 3.9434\n",
            "Epoch 15/5000\n",
            "1632/1632 [==============================] - 3s 2ms/step - loss: 0.0178 - mean_absolute_error: 1.5073 - val_loss: 0.0029 - val_mean_absolute_error: 0.6390\n",
            "Epoch 16/5000\n",
            "1632/1632 [==============================] - 3s 2ms/step - loss: 0.0161 - mean_absolute_error: 1.4108 - val_loss: 0.0178 - val_mean_absolute_error: 1.7826\n",
            "Epoch 17/5000\n",
            "1632/1632 [==============================] - 3s 2ms/step - loss: 0.0157 - mean_absolute_error: 1.4433 - val_loss: 0.0191 - val_mean_absolute_error: 1.8580\n",
            "Epoch 18/5000\n",
            "1632/1632 [==============================] - 3s 2ms/step - loss: 0.0121 - mean_absolute_error: 1.2676 - val_loss: 0.0103 - val_mean_absolute_error: 1.3228\n",
            "Epoch 19/5000\n",
            "1632/1632 [==============================] - 3s 2ms/step - loss: 0.0103 - mean_absolute_error: 1.1750 - val_loss: 0.0102 - val_mean_absolute_error: 1.3291\n",
            "Epoch 20/5000\n",
            "1632/1632 [==============================] - 3s 2ms/step - loss: 0.0095 - mean_absolute_error: 1.1287 - val_loss: 0.0303 - val_mean_absolute_error: 2.3428\n",
            "Epoch 21/5000\n",
            "1632/1632 [==============================] - 3s 2ms/step - loss: 0.0074 - mean_absolute_error: 1.0089 - val_loss: 0.0040 - val_mean_absolute_error: 0.7975\n",
            "Epoch 22/5000\n",
            "1632/1632 [==============================] - 3s 2ms/step - loss: 0.0066 - mean_absolute_error: 0.9537 - val_loss: 0.0119 - val_mean_absolute_error: 1.4530\n",
            "Epoch 23/5000\n",
            "1632/1632 [==============================] - 3s 2ms/step - loss: 0.0067 - mean_absolute_error: 0.9647 - val_loss: 0.0072 - val_mean_absolute_error: 1.1006\n",
            "Epoch 24/5000\n",
            "1632/1632 [==============================] - 3s 2ms/step - loss: 0.0064 - mean_absolute_error: 0.9400 - val_loss: 0.0129 - val_mean_absolute_error: 1.5184\n",
            "Epoch 25/5000\n",
            "1632/1632 [==============================] - 3s 2ms/step - loss: 0.0066 - mean_absolute_error: 0.9229 - val_loss: 0.0017 - val_mean_absolute_error: 0.4860\n",
            "Epoch 26/5000\n",
            "1632/1632 [==============================] - 3s 2ms/step - loss: 0.0065 - mean_absolute_error: 0.9191 - val_loss: 0.0017 - val_mean_absolute_error: 0.4896\n",
            "Epoch 27/5000\n",
            "1632/1632 [==============================] - 3s 2ms/step - loss: 0.0071 - mean_absolute_error: 0.9613 - val_loss: 0.0100 - val_mean_absolute_error: 1.3222\n",
            "Epoch 28/5000\n",
            "1632/1632 [==============================] - 4s 2ms/step - loss: 0.0055 - mean_absolute_error: 0.8716 - val_loss: 0.0212 - val_mean_absolute_error: 1.9512\n",
            "Epoch 29/5000\n",
            "1632/1632 [==============================] - 3s 2ms/step - loss: 0.0070 - mean_absolute_error: 0.9536 - val_loss: 0.0217 - val_mean_absolute_error: 1.9723\n",
            "Epoch 30/5000\n",
            "1632/1632 [==============================] - 3s 2ms/step - loss: 0.0108 - mean_absolute_error: 1.1208 - val_loss: 0.0033 - val_mean_absolute_error: 0.7137\n",
            "Epoch 31/5000\n",
            "1632/1632 [==============================] - 3s 2ms/step - loss: 0.0049 - mean_absolute_error: 0.7944 - val_loss: 0.0029 - val_mean_absolute_error: 0.6730\n",
            "Epoch 32/5000\n",
            "1632/1632 [==============================] - 3s 2ms/step - loss: 0.0054 - mean_absolute_error: 0.8261 - val_loss: 0.0047 - val_mean_absolute_error: 0.8769\n",
            "Epoch 33/5000\n",
            "1632/1632 [==============================] - 3s 2ms/step - loss: 0.0063 - mean_absolute_error: 0.8784 - val_loss: 0.0024 - val_mean_absolute_error: 0.5893\n",
            "Epoch 34/5000\n",
            "1632/1632 [==============================] - 3s 2ms/step - loss: 0.0044 - mean_absolute_error: 0.7635 - val_loss: 0.0024 - val_mean_absolute_error: 0.5971\n",
            "Epoch 35/5000\n",
            "1632/1632 [==============================] - 3s 2ms/step - loss: 0.0061 - mean_absolute_error: 0.8774 - val_loss: 0.0073 - val_mean_absolute_error: 1.1196\n"
          ],
          "name": "stdout"
        },
        {
          "output_type": "execute_result",
          "data": {
            "text/plain": [
              "<keras.callbacks.History at 0x7fd8b8626b70>"
            ]
          },
          "metadata": {
            "tags": []
          },
          "execution_count": 67
        }
      ]
    },
    {
      "cell_type": "code",
      "metadata": {
        "id": "MnILXCKmZCjd",
        "colab_type": "code",
        "outputId": "6cdcc158-56fb-4269-b3f5-e7efa683392e",
        "colab": {
          "base_uri": "https://localhost:8080/",
          "height": 51
        }
      },
      "source": [
        "model.evaluate(X_test, y_log_test)"
      ],
      "execution_count": 0,
      "outputs": [
        {
          "output_type": "stream",
          "text": [
            "510/510 [==============================] - 0s 93us/step\n"
          ],
          "name": "stdout"
        },
        {
          "output_type": "execute_result",
          "data": {
            "text/plain": [
              "[0.0015330498645483863, 0.4586951307221955]"
            ]
          },
          "metadata": {
            "tags": []
          },
          "execution_count": 68
        }
      ]
    },
    {
      "cell_type": "code",
      "metadata": {
        "id": "Os742Iq9e9dB",
        "colab_type": "code",
        "colab": {}
      },
      "source": [
        "predicted = pd.Series(model.predict(X_test).flatten())"
      ],
      "execution_count": 0,
      "outputs": []
    },
    {
      "cell_type": "code",
      "metadata": {
        "id": "Dx-aaeEPgGo3",
        "colab_type": "code",
        "colab": {}
      },
      "source": [
        "comp = pd.DataFrame({'predicted': np.exp(predicted), 'real_log': pd.Series(np.exp(y_log_test))})"
      ],
      "execution_count": 0,
      "outputs": []
    },
    {
      "cell_type": "code",
      "metadata": {
        "id": "SJ7g8E1uv078",
        "colab_type": "code",
        "colab": {}
      },
      "source": [
        "pd.set_option('display.float_format', lambda x: '%.3f' % x)"
      ],
      "execution_count": 0,
      "outputs": []
    },
    {
      "cell_type": "code",
      "metadata": {
        "id": "ZjE1zJ7sizzp",
        "colab_type": "code",
        "outputId": "5186e92b-e4ef-4553-b9ec-a3671c012371",
        "colab": {
          "base_uri": "https://localhost:8080/",
          "height": 359
        }
      },
      "source": [
        "comp.head(10)"
      ],
      "execution_count": 0,
      "outputs": [
        {
          "output_type": "execute_result",
          "data": {
            "text/html": [
              "<div>\n",
              "<style scoped>\n",
              "    .dataframe tbody tr th:only-of-type {\n",
              "        vertical-align: middle;\n",
              "    }\n",
              "\n",
              "    .dataframe tbody tr th {\n",
              "        vertical-align: top;\n",
              "    }\n",
              "\n",
              "    .dataframe thead th {\n",
              "        text-align: right;\n",
              "    }\n",
              "</style>\n",
              "<table border=\"1\" class=\"dataframe\">\n",
              "  <thead>\n",
              "    <tr style=\"text-align: right;\">\n",
              "      <th></th>\n",
              "      <th>predicted</th>\n",
              "      <th>real_log</th>\n",
              "    </tr>\n",
              "  </thead>\n",
              "  <tbody>\n",
              "    <tr>\n",
              "      <th>0</th>\n",
              "      <td>1534747.500</td>\n",
              "      <td>1546610.000</td>\n",
              "    </tr>\n",
              "    <tr>\n",
              "      <th>1</th>\n",
              "      <td>1942557.625</td>\n",
              "      <td>1072306.000</td>\n",
              "    </tr>\n",
              "    <tr>\n",
              "      <th>2</th>\n",
              "      <td>763102.688</td>\n",
              "      <td>1527858.000</td>\n",
              "    </tr>\n",
              "    <tr>\n",
              "      <th>3</th>\n",
              "      <td>1772962.875</td>\n",
              "      <td>932561.000</td>\n",
              "    </tr>\n",
              "    <tr>\n",
              "      <th>4</th>\n",
              "      <td>2413065.000</td>\n",
              "      <td>2459753.000</td>\n",
              "    </tr>\n",
              "    <tr>\n",
              "      <th>5</th>\n",
              "      <td>899853.875</td>\n",
              "      <td>1252289.000</td>\n",
              "    </tr>\n",
              "    <tr>\n",
              "      <th>6</th>\n",
              "      <td>3519413.250</td>\n",
              "      <td>3450119.000</td>\n",
              "    </tr>\n",
              "    <tr>\n",
              "      <th>7</th>\n",
              "      <td>1014672.250</td>\n",
              "      <td>1415724.000</td>\n",
              "    </tr>\n",
              "    <tr>\n",
              "      <th>8</th>\n",
              "      <td>1266008.000</td>\n",
              "      <td>780116.000</td>\n",
              "    </tr>\n",
              "    <tr>\n",
              "      <th>9</th>\n",
              "      <td>560422.562</td>\n",
              "      <td>739690.000</td>\n",
              "    </tr>\n",
              "  </tbody>\n",
              "</table>\n",
              "</div>"
            ],
            "text/plain": [
              "    predicted    real_log\n",
              "0 1534747.500 1546610.000\n",
              "1 1942557.625 1072306.000\n",
              "2  763102.688 1527858.000\n",
              "3 1772962.875  932561.000\n",
              "4 2413065.000 2459753.000\n",
              "5  899853.875 1252289.000\n",
              "6 3519413.250 3450119.000\n",
              "7 1014672.250 1415724.000\n",
              "8 1266008.000  780116.000\n",
              "9  560422.562  739690.000"
            ]
          },
          "metadata": {
            "tags": []
          },
          "execution_count": 72
        }
      ]
    },
    {
      "cell_type": "code",
      "metadata": {
        "id": "ti-FDLR2jBkw",
        "colab_type": "code",
        "outputId": "08ea33be-6c5c-4fc3-d0ea-07f525f38114",
        "colab": {
          "base_uri": "https://localhost:8080/",
          "height": 297
        }
      },
      "source": [
        "comp.describe()"
      ],
      "execution_count": 0,
      "outputs": [
        {
          "output_type": "execute_result",
          "data": {
            "text/html": [
              "<div>\n",
              "<style scoped>\n",
              "    .dataframe tbody tr th:only-of-type {\n",
              "        vertical-align: middle;\n",
              "    }\n",
              "\n",
              "    .dataframe tbody tr th {\n",
              "        vertical-align: top;\n",
              "    }\n",
              "\n",
              "    .dataframe thead th {\n",
              "        text-align: right;\n",
              "    }\n",
              "</style>\n",
              "<table border=\"1\" class=\"dataframe\">\n",
              "  <thead>\n",
              "    <tr style=\"text-align: right;\">\n",
              "      <th></th>\n",
              "      <th>predicted</th>\n",
              "      <th>real_log</th>\n",
              "    </tr>\n",
              "  </thead>\n",
              "  <tbody>\n",
              "    <tr>\n",
              "      <th>count</th>\n",
              "      <td>510.000</td>\n",
              "      <td>510.000</td>\n",
              "    </tr>\n",
              "    <tr>\n",
              "      <th>mean</th>\n",
              "      <td>1364132.750</td>\n",
              "      <td>1878140.847</td>\n",
              "    </tr>\n",
              "    <tr>\n",
              "      <th>std</th>\n",
              "      <td>964594.250</td>\n",
              "      <td>2951806.927</td>\n",
              "    </tr>\n",
              "    <tr>\n",
              "      <th>min</th>\n",
              "      <td>260341.984</td>\n",
              "      <td>120274.000</td>\n",
              "    </tr>\n",
              "    <tr>\n",
              "      <th>25%</th>\n",
              "      <td>882788.281</td>\n",
              "      <td>752167.250</td>\n",
              "    </tr>\n",
              "    <tr>\n",
              "      <th>50%</th>\n",
              "      <td>1181603.625</td>\n",
              "      <td>1138817.000</td>\n",
              "    </tr>\n",
              "    <tr>\n",
              "      <th>75%</th>\n",
              "      <td>1534986.844</td>\n",
              "      <td>1804856.750</td>\n",
              "    </tr>\n",
              "    <tr>\n",
              "      <th>max</th>\n",
              "      <td>12240924.000</td>\n",
              "      <td>34309432.000</td>\n",
              "    </tr>\n",
              "  </tbody>\n",
              "</table>\n",
              "</div>"
            ],
            "text/plain": [
              "         predicted     real_log\n",
              "count      510.000      510.000\n",
              "mean   1364132.750  1878140.847\n",
              "std     964594.250  2951806.927\n",
              "min     260341.984   120274.000\n",
              "25%     882788.281   752167.250\n",
              "50%    1181603.625  1138817.000\n",
              "75%    1534986.844  1804856.750\n",
              "max   12240924.000 34309432.000"
            ]
          },
          "metadata": {
            "tags": []
          },
          "execution_count": 73
        }
      ]
    },
    {
      "cell_type": "code",
      "metadata": {
        "id": "_bSe_QT9o-Qw",
        "colab_type": "code",
        "outputId": "7a024bd9-cffe-4247-876f-9871be526b09",
        "colab": {
          "base_uri": "https://localhost:8080/",
          "height": 80
        }
      },
      "source": [
        "comp[comp['real_log'] == comp['real_log'].max()]"
      ],
      "execution_count": 0,
      "outputs": [
        {
          "output_type": "execute_result",
          "data": {
            "text/html": [
              "<div>\n",
              "<style scoped>\n",
              "    .dataframe tbody tr th:only-of-type {\n",
              "        vertical-align: middle;\n",
              "    }\n",
              "\n",
              "    .dataframe tbody tr th {\n",
              "        vertical-align: top;\n",
              "    }\n",
              "\n",
              "    .dataframe thead th {\n",
              "        text-align: right;\n",
              "    }\n",
              "</style>\n",
              "<table border=\"1\" class=\"dataframe\">\n",
              "  <thead>\n",
              "    <tr style=\"text-align: right;\">\n",
              "      <th></th>\n",
              "      <th>predicted</th>\n",
              "      <th>real_log</th>\n",
              "    </tr>\n",
              "  </thead>\n",
              "  <tbody>\n",
              "    <tr>\n",
              "      <th>372</th>\n",
              "      <td>6787852.500</td>\n",
              "      <td>34309432.000</td>\n",
              "    </tr>\n",
              "  </tbody>\n",
              "</table>\n",
              "</div>"
            ],
            "text/plain": [
              "      predicted     real_log\n",
              "372 6787852.500 34309432.000"
            ]
          },
          "metadata": {
            "tags": []
          },
          "execution_count": 75
        }
      ]
    },
    {
      "cell_type": "code",
      "metadata": {
        "id": "-gjHlvfojCjK",
        "colab_type": "code",
        "outputId": "58802dc5-c1ab-4740-c77f-efdb529746f9",
        "colab": {
          "base_uri": "https://localhost:8080/",
          "height": 619
        }
      },
      "source": [
        "import matplotlib.pyplot as plt\n",
        "plt.figure(figsize=(16, 10))\n",
        "sns.lineplot(data=comp['real_log'])\n",
        "sns.lineplot(data=comp['predicted'])"
      ],
      "execution_count": 0,
      "outputs": [
        {
          "output_type": "execute_result",
          "data": {
            "text/plain": [
              "<matplotlib.axes._subplots.AxesSubplot at 0x7fd8b623fe80>"
            ]
          },
          "metadata": {
            "tags": []
          },
          "execution_count": 76
        },
        {
          "output_type": "display_data",
          "data": {
            "image/png": "[encoded data removed]",
            "text/plain": [
              "<Figure size 1152x720 with 1 Axes>"
            ]
          },
          "metadata": {
            "tags": []
          }
        }
      ]
    },
    {
      "cell_type": "code",
      "metadata": {
        "id": "t7AdcWJnrhWP",
        "colab_type": "code",
        "colab": {}
      },
      "source": [
        ""
      ],
      "execution_count": 0,
      "outputs": []
    },
    {
      "cell_type": "markdown",
      "metadata": {
        "id": "vNLxbUvE2s68",
        "colab_type": "text"
      },
      "source": [
        "Let's convert title and description"
      ]
    },
    {
      "cell_type": "code",
      "metadata": {
        "id": "6iiDcslAA_c5",
        "colab_type": "code",
        "colab": {}
      },
      "source": [
        "from sklearn.feature_extraction.stop_words import ENGLISH_STOP_WORDS\n",
        "\n",
        "speakers = list(set(X_with_tags['main_speaker'].values))\n",
        "extra_stop_words = ['ted', 'talk', 'talks', 'don']\n",
        "stop_words[:10]\n",
        "\n",
        "stop_words = speakers + list(ENGLISH_STOP_WORDS) + extra_stop_words"
      ],
      "execution_count": 0,
      "outputs": []
    },
    {
      "cell_type": "code",
      "metadata": {
        "id": "PcS1iyR_BTd_",
        "colab_type": "code",
        "outputId": "5f59b580-c19a-478e-e512-29f8a046223a",
        "colab": {
          "base_uri": "https://localhost:8080/",
          "height": 307
        }
      },
      "source": [
        "X_with_tags['title-description'] = X_with_tags['title'].str.lower().cat(X_with_tags['description'].str.lower(), sep=' ')"
      ],
      "execution_count": 0,
      "outputs": [
        {
          "output_type": "error",
          "ename": "AttributeError",
          "evalue": "ignored",
          "traceback": [
            "\u001b[0;31m---------------------------------------------------------------------------\u001b[0m",
            "\u001b[0;31mAttributeError\u001b[0m                            Traceback (most recent call last)",
            "\u001b[0;32m<ipython-input-259-79077e74a510>\u001b[0m in \u001b[0;36m<module>\u001b[0;34m()\u001b[0m\n\u001b[0;32m----> 1\u001b[0;31m \u001b[0mX_with_tags\u001b[0m\u001b[0;34m[\u001b[0m\u001b[0;34m'title-description'\u001b[0m\u001b[0;34m]\u001b[0m \u001b[0;34m=\u001b[0m \u001b[0mX_with_tags\u001b[0m\u001b[0;34m[\u001b[0m\u001b[0;34m'title'\u001b[0m\u001b[0;34m]\u001b[0m\u001b[0;34m.\u001b[0m\u001b[0mstr\u001b[0m\u001b[0;34m.\u001b[0m\u001b[0mlower\u001b[0m\u001b[0;34m(\u001b[0m\u001b[0;34m)\u001b[0m\u001b[0;34m.\u001b[0m\u001b[0mcat\u001b[0m\u001b[0;34m(\u001b[0m\u001b[0mX_with_tags\u001b[0m\u001b[0;34m[\u001b[0m\u001b[0;34m'description'\u001b[0m\u001b[0;34m]\u001b[0m\u001b[0;34m.\u001b[0m\u001b[0mstr\u001b[0m\u001b[0;34m.\u001b[0m\u001b[0mlower\u001b[0m\u001b[0;34m(\u001b[0m\u001b[0;34m)\u001b[0m\u001b[0;34m,\u001b[0m \u001b[0msep\u001b[0m\u001b[0;34m=\u001b[0m\u001b[0;34m' '\u001b[0m\u001b[0;34m)\u001b[0m\u001b[0;34m\u001b[0m\u001b[0;34m\u001b[0m\u001b[0m\n\u001b[0m",
            "\u001b[0;32m/usr/local/lib/python3.6/dist-packages/pandas/core/generic.py\u001b[0m in \u001b[0;36m__getattr__\u001b[0;34m(self, name)\u001b[0m\n\u001b[1;32m   5061\u001b[0m         if (name in self._internal_names_set or name in self._metadata or\n\u001b[1;32m   5062\u001b[0m                 name in self._accessors):\n\u001b[0;32m-> 5063\u001b[0;31m             \u001b[0;32mreturn\u001b[0m \u001b[0mobject\u001b[0m\u001b[0;34m.\u001b[0m\u001b[0m__getattribute__\u001b[0m\u001b[0;34m(\u001b[0m\u001b[0mself\u001b[0m\u001b[0;34m,\u001b[0m \u001b[0mname\u001b[0m\u001b[0;34m)\u001b[0m\u001b[0;34m\u001b[0m\u001b[0;34m\u001b[0m\u001b[0m\n\u001b[0m\u001b[1;32m   5064\u001b[0m         \u001b[0;32melse\u001b[0m\u001b[0;34m:\u001b[0m\u001b[0;34m\u001b[0m\u001b[0;34m\u001b[0m\u001b[0m\n\u001b[1;32m   5065\u001b[0m             \u001b[0;32mif\u001b[0m \u001b[0mself\u001b[0m\u001b[0;34m.\u001b[0m\u001b[0m_info_axis\u001b[0m\u001b[0;34m.\u001b[0m\u001b[0m_can_hold_identifiers_and_holds_name\u001b[0m\u001b[0;34m(\u001b[0m\u001b[0mname\u001b[0m\u001b[0;34m)\u001b[0m\u001b[0;34m:\u001b[0m\u001b[0;34m\u001b[0m\u001b[0;34m\u001b[0m\u001b[0m\n",
            "\u001b[0;32m/usr/local/lib/python3.6/dist-packages/pandas/core/accessor.py\u001b[0m in \u001b[0;36m__get__\u001b[0;34m(self, obj, cls)\u001b[0m\n\u001b[1;32m    169\u001b[0m             \u001b[0;31m# we're accessing the attribute of the class, i.e., Dataset.geo\u001b[0m\u001b[0;34m\u001b[0m\u001b[0;34m\u001b[0m\u001b[0;34m\u001b[0m\u001b[0m\n\u001b[1;32m    170\u001b[0m             \u001b[0;32mreturn\u001b[0m \u001b[0mself\u001b[0m\u001b[0;34m.\u001b[0m\u001b[0m_accessor\u001b[0m\u001b[0;34m\u001b[0m\u001b[0;34m\u001b[0m\u001b[0m\n\u001b[0;32m--> 171\u001b[0;31m         \u001b[0maccessor_obj\u001b[0m \u001b[0;34m=\u001b[0m \u001b[0mself\u001b[0m\u001b[0;34m.\u001b[0m\u001b[0m_accessor\u001b[0m\u001b[0;34m(\u001b[0m\u001b[0mobj\u001b[0m\u001b[0;34m)\u001b[0m\u001b[0;34m\u001b[0m\u001b[0;34m\u001b[0m\u001b[0m\n\u001b[0m\u001b[1;32m    172\u001b[0m         \u001b[0;31m# Replace the property with the accessor object. Inspired by:\u001b[0m\u001b[0;34m\u001b[0m\u001b[0;34m\u001b[0m\u001b[0;34m\u001b[0m\u001b[0m\n\u001b[1;32m    173\u001b[0m         \u001b[0;31m# http://www.pydanny.com/cached-property.html\u001b[0m\u001b[0;34m\u001b[0m\u001b[0;34m\u001b[0m\u001b[0;34m\u001b[0m\u001b[0m\n",
            "\u001b[0;32m/usr/local/lib/python3.6/dist-packages/pandas/core/arrays/categorical.py\u001b[0m in \u001b[0;36m__init__\u001b[0;34m(self, data)\u001b[0m\n\u001b[1;32m   2489\u001b[0m \u001b[0;34m\u001b[0m\u001b[0m\n\u001b[1;32m   2490\u001b[0m     \u001b[0;32mdef\u001b[0m \u001b[0m__init__\u001b[0m\u001b[0;34m(\u001b[0m\u001b[0mself\u001b[0m\u001b[0;34m,\u001b[0m \u001b[0mdata\u001b[0m\u001b[0;34m)\u001b[0m\u001b[0;34m:\u001b[0m\u001b[0;34m\u001b[0m\u001b[0;34m\u001b[0m\u001b[0m\n\u001b[0;32m-> 2491\u001b[0;31m         \u001b[0mself\u001b[0m\u001b[0;34m.\u001b[0m\u001b[0m_validate\u001b[0m\u001b[0;34m(\u001b[0m\u001b[0mdata\u001b[0m\u001b[0;34m)\u001b[0m\u001b[0;34m\u001b[0m\u001b[0;34m\u001b[0m\u001b[0m\n\u001b[0m\u001b[1;32m   2492\u001b[0m         \u001b[0mself\u001b[0m\u001b[0;34m.\u001b[0m\u001b[0m_parent\u001b[0m \u001b[0;34m=\u001b[0m \u001b[0mdata\u001b[0m\u001b[0;34m.\u001b[0m\u001b[0mvalues\u001b[0m\u001b[0;34m\u001b[0m\u001b[0;34m\u001b[0m\u001b[0m\n\u001b[1;32m   2493\u001b[0m         \u001b[0mself\u001b[0m\u001b[0;34m.\u001b[0m\u001b[0m_index\u001b[0m \u001b[0;34m=\u001b[0m \u001b[0mdata\u001b[0m\u001b[0;34m.\u001b[0m\u001b[0mindex\u001b[0m\u001b[0;34m\u001b[0m\u001b[0;34m\u001b[0m\u001b[0m\n",
            "\u001b[0;32m/usr/local/lib/python3.6/dist-packages/pandas/core/arrays/categorical.py\u001b[0m in \u001b[0;36m_validate\u001b[0;34m(data)\u001b[0m\n\u001b[1;32m   2498\u001b[0m     \u001b[0;32mdef\u001b[0m \u001b[0m_validate\u001b[0m\u001b[0;34m(\u001b[0m\u001b[0mdata\u001b[0m\u001b[0;34m)\u001b[0m\u001b[0;34m:\u001b[0m\u001b[0;34m\u001b[0m\u001b[0;34m\u001b[0m\u001b[0m\n\u001b[1;32m   2499\u001b[0m         \u001b[0;32mif\u001b[0m \u001b[0;32mnot\u001b[0m \u001b[0mis_categorical_dtype\u001b[0m\u001b[0;34m(\u001b[0m\u001b[0mdata\u001b[0m\u001b[0;34m.\u001b[0m\u001b[0mdtype\u001b[0m\u001b[0;34m)\u001b[0m\u001b[0;34m:\u001b[0m\u001b[0;34m\u001b[0m\u001b[0;34m\u001b[0m\u001b[0m\n\u001b[0;32m-> 2500\u001b[0;31m             raise AttributeError(\"Can only use .cat accessor with a \"\n\u001b[0m\u001b[1;32m   2501\u001b[0m                                  \"'category' dtype\")\n\u001b[1;32m   2502\u001b[0m \u001b[0;34m\u001b[0m\u001b[0m\n",
            "\u001b[0;31mAttributeError\u001b[0m: Can only use .cat accessor with a 'category' dtype"
          ]
        }
      ]
    },
    {
      "cell_type": "code",
      "metadata": {
        "id": "JAoE-hui5qAn",
        "colab_type": "code",
        "outputId": "7bea12c2-ff15-413a-90d1-7e5b5a4b4156",
        "colab": {
          "base_uri": "https://localhost:8080/",
          "height": 34
        }
      },
      "source": [
        "len(set(X_with_tags['title-description'].str.cat(sep=' ').split()))"
      ],
      "execution_count": 0,
      "outputs": [
        {
          "output_type": "execute_result",
          "data": {
            "text/plain": [
              "26414"
            ]
          },
          "metadata": {
            "tags": []
          },
          "execution_count": 243
        }
      ]
    },
    {
      "cell_type": "code",
      "metadata": {
        "id": "C2Q6_-7s41Vj",
        "colab_type": "code",
        "outputId": "3712e2b1-4cf3-4fad-8920-dbca612240a6",
        "colab": {
          "base_uri": "https://localhost:8080/",
          "height": 71
        }
      },
      "source": [
        "from sklearn.feature_extraction.text import TfidfVectorizer\n",
        "\n",
        "vec = TfidfVectorizer(min_df=0.02 ,max_df=0.8, stop_words=stop_words)\n",
        "title_words = vec.fit_transform(X_with_tags['title-description'])"
      ],
      "execution_count": 0,
      "outputs": [
        {
          "output_type": "stream",
          "text": [
            "/usr/local/lib/python3.6/dist-packages/sklearn/feature_extraction/text.py:300: UserWarning: Your stop_words may be inconsistent with your preprocessing. Tokenizing the stop words generated tokens ['aakash', 'aala', 'aamodt', 'aaron', 'aaronson', 'abani', 'abdel', 'abdi', 'abdul', 'abe', 'abha', 'abigail', 'abouelnaga', 'abraham', 'abrahams', 'abramović', 'abrams', 'abreu', 'abu', 'acaroglu', 'achenyo', 'achor', 'acquisti', 'adam', 'adami', 'adams', 'addis', 'adegbeye', 'adele', 'adichie', 'aditi', 'adora', 'aduaka', 'afra', 'agarawala', 'agarwal', 'agassi', 'aglio', 'agra', 'agrawal', 'agus', 'agüera', 'ahmad', 'ahn', 'aicha', 'aiden', 'aimee', 'aj', 'ajit', 'akyol', 'al', 'alaa', 'alain', 'alan', 'alanna', 'alastair', 'alberto', 'albright', 'alcorn', 'alec', 'alejandro', 'alemseged', 'aleph', 'alessandra', 'alessandro', 'alex', 'alexa', 'alexander', 'alexis', 'ali', 'alice', 'alicia', 'alisa', 'alison', 'alix', 'allan', 'allende', 'allison', 'allocca', 'almog', 'alon', 'alter', 'altman', 'alvarado', 'alwar', 'alyson', 'alyssa', 'amanda', 'amber', 'ambridge', 'ameenah', 'ameera', 'ami', 'amit', 'amory', 'amos', 'amy', 'anab', 'anand', 'ananda', 'anant', 'ananthaswamy', 'anas', 'anastasia', 'anders', 'andersen', 'anderson', 'andraka', 'andras', 'andrea', 'andreas', 'andres', 'andrew', 'andrés', 'andy', 'angela', 'angelo', 'angélica', 'anholt', 'ani', 'anika', 'anil', 'anjali', 'anjan', 'ann', 'anna', 'anne', 'annette', 'annie', 'annmarie', 'annunziata', 'anote', 'anthony', 'anti', 'antonelli', 'antonio', 'antonsen', 'antony', 'antónio', 'anupam', 'aomawa', 'aparna', 'apollo', 'appiah', 'applebaum', 'applewhite', 'arai', 'aravena', 'araya', 'arcas', 'archer', 'aremeyaw', 'ari', 'arianna', 'ariel', 'ariely', 'aris', 'arledge', 'armando', 'armstrong', 'arredondo', 'arrington', 'arroyo', 'arthur', 'arthus', 'arunachalam', 'arvind', 'asakawa', 'ash', 'asha', 'ashanti', 'ashburn', 'ashdown', 'asher', 'ashley', 'ashraf', 'ashton', 'asner', 'aspen', 'assange', 'astro', 'atala', 'attia', 'attiya', 'atul', 'aubrey', 'audrey', 'augie', 'auke', 'auret', 'austin', 'autesserre', 'autor', 'avi', 'awuah', 'ayah', 'ayittey', 'aylward', 'azevedo', 'aziz', 'aziza', 'azua', 'baan', 'baba', 'bacha', 'baehr', 'baggini', 'bahia', 'bai', 'bailey', 'bairey', 'baker', 'bakhtiozina', 'balagadde', 'balasubramaniam', 'balcetis', 'bales', 'ballard', 'balog', 'ban', 'banda', 'bandi', 'bangle', 'banjo', 'bansal', 'bantjes', 'banzi', 'baptiste', 'barakat', 'baraniuk', 'barasch', 'barat', 'barbara', 'barber', 'barcia', 'barlow', 'barnett', 'baron', 'barry', 'bart', 'bartik', 'bartlett', 'barton', 'basij', 'bass', 'bassam', 'bassett', 'bassler', 'bastawrous', 'bastian', 'batoor', 'bavelier', 'bayer', 'bdeir', 'beacham', 'beardyman', 'beau', 'becci', 'beckham', 'becky', 'bedi', 'beeban', 'beer', 'begg', 'behar', 'behncke', 'beiser', 'bel', 'belcher', 'bell', 'bellows', 'ben', 'benartzi', 'bender', 'benedetta', 'benjamin', 'benkler', 'bennett', 'bennoune', 'benoit', 'benscoter', 'benyus', 'bercken', 'bergbreiter', 'bergmann', 'berkenstock', 'berkley', 'berlow', 'berners', 'bernie', 'berrow', 'berry', 'berti', 'bertozzi', 'bertrand', 'besser', 'betancourt', 'beth', 'bettina', 'betts', 'beverly', 'bezaitis', 'bezos', 'bhatia', 'bhatt', 'bhogle', 'bhojwani', 'biddle', 'bierut', 'biggers', 'bijou', 'bilal', 'billie', 'billy', 'binder', 'birch', 'bird', 'birdsong', 'birke', 'birkhead', 'bischoff', 'bismark', 'bissell', 'bittman', 'bj', 'bjarke', 'bjorn', 'black', 'blackmore', 'blaine', 'blaise', 'blakemore', 'blakley', 'blanton', 'bliss', 'bloch', 'block', 'bloom', 'blum', 'boahen', 'boaz', 'bob', 'bobby', 'bodekaer', 'boersma', 'boghuma', 'bohannon', 'bolin', 'bolinsky', 'bolte', 'bomani', 'bondar', 'boniface', 'bonnie', 'bono', 'booch', 'boogz', 'boone', 'borges', 'borkin', 'bortnik', 'bose', 'boston', 'bostrom', 'botsman', 'botticelli', 'botton', 'bouman', 'bourdeaux', 'boushnak', 'bowden', 'bowen', 'bows', 'boyajian', 'boyd', 'boyden', 'boys', 'brachman', 'bracy', 'bradner', 'brain', 'braitman', 'bran', 'brand', 'branson', 'brea', 'breazeal', 'breel', 'bregman', 'bremmer', 'bremner', 'brencher', 'brenda', 'brené', 'brewer', 'brewster', 'brian', 'briceño', 'bricklin', 'briggs', 'brilliant', 'brin', 'british', 'britta', 'brittney', 'broadbent', 'brohi', 'brooke', 'brooks', 'brothers', 'brous', 'brown', 'browne', 'browning', 'bruce', 'bruno', 'bryan', 'brynjolfsson', 'bu', 'buck', 'buechley', 'bueno', 'buettner', 'bulaj', 'bunker', 'buolamwini', 'burchat', 'burchfield', 'burden', 'burgess', 'burkard', 'burke', 'burkus', 'burns', 'burstein', 'burt', 'burtynsky', 'busari', 'bustos', 'byrne', 'béatrice', 'cabezón', 'cabrol', 'cage', 'cahana', 'cain', 'cairo', 'caitlin', 'caitria', 'caleb', 'calthorpe', 'camarillo', 'camerer', 'cameron', 'camille', 'campbell', 'canada', 'canales', 'candy', 'cantu', 'cappadocia', 'cardini', 'carin', 'carina', 'carl', 'carlo', 'carlson', 'carmen', 'carne', 'carol', 'caroline', 'carolyn', 'carr', 'carreño', 'carrie', 'carroll', 'carson', 'carstensen', 'cartaya', 'carter', 'carvalho', 'carvens', 'cary', 'casarett', 'cascio', 'case', 'casey', 'cat', 'catarina', 'catherine', 'cathy', 'catron', 'cave', 'celeste', 'cerf', 'cesar', 'chad', 'chade', 'chaffer', 'chakrabarty', 'chalabi', 'chalmers', 'chance', 'chandran', 'chang', 'chaouni', 'chappatte', 'charity', 'charles', 'charlie', 'charmian', 'chase', 'chatfield', 'chatrou', 'chatterjee', 'chellman', 'chelsea', 'chen', 'cheryl', 'chetan', 'chevalier', 'cheyenne', 'chieh', 'chieko', 'childs', 'chimamanda', 'chinaka', 'chinoy', 'chip', 'chipchase', 'choi', 'chris', 'christakis', 'christian', 'christiana', 'christien', 'christina', 'christine', 'christoph', 'christopher', 'chronicles', 'chrystia', 'chung', 'church', 'citron', 'claron', 'clay', 'cliatt', 'cliff', 'clifford', 'clint', 'clinton', 'cobley', 'cochetel', 'cochrane', 'cofer', 'cohen', 'colantuono', 'cole', 'coleman', 'colin', 'collier', 'collins', 'colombo', 'conley', 'conneally', 'connell', 'connolly', 'conrad', 'conte', 'conti', 'cooper', 'cooperman', 'copp', 'coray', 'corneille', 'cornett', 'coron', 'cosmin', 'cottam', 'coughenour', 'courtine', 'courtney', 'cousteau', 'cowen', 'cowley', 'cox', 'coyote', 'craig', 'cranor', 'crenshaw', 'cristina', 'crockett', 'cronin', 'crump', 'cruz', 'csikszentmihalyi', 'cuddy', 'cukier', 'cullors', 'cumming', 'curtis', 'curzan', 'cutts', 'cynthia', 'czerski', 'cédric', 'daan', 'dale', 'dalia', 'dalio', 'dall', 'damasio', 'damberger', 'dambisa', 'dame', 'damian', 'damon', 'dan', 'daniel', 'daniele', 'danielle', 'danino', 'danit', 'danny', 'danticat', 'daphne', 'daria', 'dass', 'dastoor', 'dave', 'davenhall', 'david', 'davidson', 'davis', 'dawesar', 'dawkins', 'dawn', 'dawson', 'dayananda', 'dazols', 'deam', 'dean', 'deavere', 'deb', 'debevec', 'deborah', 'debra', 'debronkart', 'decaires', 'decharms', 'dee', 'deedy', 'deepika', 'deeyah', 'degruy', 'del', 'delaney', 'delle', 'deluca', 'demetrios', 'den', 'dena', 'denapoli', 'denis', 'denise', 'dennett', 'dennis', 'deqo', 'der', 'dereck', 'derek', 'derisi', 'desimone', 'desmond', 'deterding', 'dettmer', 'deutsch', 'devdutt', 'dewitt', 'di', 'diamandis', 'diamond', 'diana', 'diane', 'dianna', 'diaz', 'dichter', 'dick', 'dicke', 'dickinson', 'didier', 'dietrich', 'diffrient', 'dilip', 'diller', 'dimitar', 'dinsmore', 'dishman', 'dixon', 'diébédo', 'dodson', 'doerr', 'doiron', 'dolby', 'domas', 'domenech', 'donald', 'donaldson', 'donato', 'dong', 'donnelly', 'doolittle', 'doris', 'dorling', 'dorothy', 'doudna', 'dougherty', 'doughty', 'douglas', 'dow', 'downey', 'doyle', 'dreger', 'drew', 'drexler', 'drinkwater', 'driver', 'drori', 'drummond', 'du', 'duarte', 'dubois', 'duckworth', 'dudamel', 'dudani', 'dudley', 'duflo', 'dugan', 'duley', 'dunbar', 'dunham', 'dunlap', 'dustin', 'dutton', 'dweck', 'dyan', 'dyck', 'dyson', 'eagleman', 'eames', 'ear', 'earle', 'ebeling', 'eben', 'ebert', 'ebina', 'ebrahim', 'eccles', 'echelman', 'ed', 'eddi', 'eddie', 'eddy', 'edi', 'edith', 'edry', 'eduardo', 'edward', 'edwidge', 'eggers', 'eglash', 'eigen', 'einstein', 'eisen', 'ekström', 'el', 'elachi', 'elahi', 'elaine', 'elazari', 'eleanor', 'eleni', 'eli', 'elias', 'eliasson', 'elif', 'elise', 'elizabeth', 'ellen', 'elliot', 'ellsey', 'elon', 'elora', 'elva', 'elworthy', 'elyn', 'eman', 'emdin', 'emiliano', 'emilie', 'emily', 'emma', 'emmanuel', 'emmart', 'emtithal', 'engelen', 'enric', 'enrique', 'enriquez', 'ensemble', 'ensler', 'epstein', 'erez', 'eric', 'erica', 'erik', 'erika', 'erin', 'ernest', 'ernesto', 'esfahani', 'esta', 'esther', 'etcoff', 'ethan', 'ethel', 'etlinger', 'eustace', 'euvin', 'eva', 'evan', 'evans', 'eve', 'evelyn', 'evgeny', 'ewald', 'ewango', 'eythor', 'fabian', 'fabien', 'fadell', 'fahad', 'faith', 'fakim', 'falkvinge', 'fallon', 'fankhauser', 'farrant', 'farsad', 'fawn', 'fe', 'fedeli', 'fedoroff', 'fei', 'feiler', 'feinberg', 'feisal', 'feki', 'feldman', 'felix', 'ferguson', 'ferreira', 'ferren', 'ferriss', 'feynman', 'fick', 'ficklin', 'fields', 'figueres', 'fineberg', 'finley', 'fiorenzo', 'firestein', 'fischell', 'fischer', 'fisher', 'fishman', 'fitzgerald', 'fjellberg', 'flake', 'fleischer', 'fleming', 'flynn', 'foer', 'foley', 'follmer', 'fonda', 'forbes', 'ford', 'forgacs', 'forman', 'forsyth', 'foss', 'foster', 'fowler', 'fox', 'frances', 'francesca', 'francesco', 'francis', 'franco', 'frank', 'frankl', 'frans', 'frantzolas', 'franz', 'françoise', 'fraser', 'frates', 'frazier', 'fred', 'frederic', 'frederick', 'fredy', 'freedman', 'freeland', 'freeman', 'frenkel', 'fresco', 'freudenthal', 'fried', 'friend', 'fry', 'fulton', 'fusion', 'gabby', 'gabe', 'gabre', 'gabriel', 'gabriela', 'gafic', 'gage', 'gahr', 'gail', 'galante', 'galef', 'galinsky', 'gallo', 'galperin', 'gamble', 'gang', 'gansky', 'ganson', 'garcia', 'garik', 'garniez', 'garone', 'garren', 'garrett', 'garrison', 'garry', 'garten', 'garth', 'garvis', 'gary', 'garza', 'gates', 'gavagan', 'gavin', 'gawande', 'gay', 'gayle', 'gbla', 'gbowee', 'ge', 'geary', 'gebbia', 'geena', 'geert', 'gegenschatz', 'gehry', 'gell', 'generous', 'genevieve', 'genova', 'geoff', 'geoffrey', 'george', 'georgette', 'gerald', 'geraldine', 'geraldino', 'gerard', 'gerdes', 'gero', 'gershenfeld', 'gerzema', 'gever', 'gevinson', 'ghani', 'ghemawat', 'ghez', 'ghonim', 'ghosh', 'gian', 'giants', 'giddens', 'giffords', 'gilbert', 'gilding', 'giler', 'giles', 'gill', 'gilley', 'giorgia', 'giovanni', 'giridharadas', 'giudice', 'gjerde', 'gladwell', 'glaser', 'glattfelder', 'gleeson', 'glenn', 'glennie', 'glenny', 'godin', 'goetz', 'goffman', 'golan', 'golbeck', 'goldacre', 'goldberg', 'goldbloom', 'golden', 'goldin', 'goldman', 'goldstein', 'goleman', 'golesworthy', 'gonzalo', 'gooch', 'goodall', 'goodman', 'goodwin', 'gopnik', 'gordon', 'gore', 'gorgens', 'gormley', 'gosier', 'goslinga', 'gould', 'gourley', 'grace', 'grady', 'graham', 'granderson', 'grandin', 'granholm', 'granick', 'grant', 'gravel', 'gray', 'green', 'greenberg', 'greene', 'greenwald', 'greg', 'gregory', 'gretchen', 'grey', 'gribetz', 'griffin', 'griffith', 'griscom', 'gross', 'grosser', 'grou', 'gruber', 'grégoire', 'guidotti', 'guillaume', 'guimarães', 'gupta', 'gurib', 'gustafson', 'gustavo', 'guterres', 'gutman', 'guy', 'ha', 'haanaes', 'haas', 'hadero', 'hadfield', 'hadyn', 'hae', 'hahn', 'haidt', 'haims', 'hajek', 'haley', 'halifax', 'hall', 'halla', 'halstead', 'hamilton', 'hamish', 'hammad', 'hammond', 'han', 'hanauer', 'hancock', 'hanczyc', 'handspring', 'hanna', 'hannah', 'hans', 'hansen', 'hansmeyer', 'hanson', 'harada', 'harald', 'harari', 'harbisson', 'hardy', 'harford', 'harger', 'hari', 'hariri', 'harish', 'harmon', 'harouda', 'harouni', 'harper', 'harris', 'harry', 'harsha', 'hartley', 'hartman', 'harvey', 'hasan', 'haseltine', 'hasinoff', 'hasson', 'haugen', 'hawa', 'hawkes', 'hawking', 'hawkins', 'hayashi', 'hayes', 'hazleton', 'hazlewood', 'headlee', 'healey', 'heap', 'heather', 'heatherwick', 'hector', 'heerden', 'heffernan', 'heide', 'heimans', 'heinerth', 'helder', 'helen', 'hellmann', 'hellum', 'hembrey', 'hemerling', 'hemmert', 'hendrik', 'henry', 'herbie', 'herculano', 'heribert', 'herold', 'herr', 'hersman', 'hertz', 'herzing', 'hetain', 'heuser', 'heywood', 'heyworth', 'hicks', 'hijri', 'hilary', 'hill', 'hillel', 'hillis', 'hinde', 'hirshberg', 'hobsbawm', 'hobson', 'hockenberry', 'hod', 'hodge', 'hodgman', 'hoen', 'hoffman', 'holiness', 'holladay', 'holly', 'holt', 'homaro', 'honey', 'hong', 'honor', 'honoré', 'hopkins', 'horner', 'horowitz', 'hoteit', 'hotz', 'houzel', 'howard', 'hrabowski', 'huang', 'hubertus', 'huey', 'huffington', 'hugh', 'hull', 'hulme', 'humphreys', 'hunger', 'hunt', 'hunter', 'hurley', 'hutchison', 'hyeonseo', 'hypponen', 'iaconesi', 'iain', 'ian', 'ibrahim', 'idachaba', 'ihrig', 'ii', 'ijspeert', 'iliff', 'ilona', 'imogen', 'improv', 'inara', 'ince', 'indolfi', 'inge', 'ingels', 'ingrid', 'insel', 'io', 'ione', 'iqbal', 'irwin', 'isaac', 'isabel', 'isay', 'isler', 'ismael', 'israelian', 'itay', 'ito', 'ivan', 'iwan', 'iwasa', 'iweala', 'iyad', 'iyengar', 'iyer', 'jaap', 'jablonski', 'jacek', 'jack', 'jackie', 'jackley', 'jackson', 'jacobs', 'jacobson', 'jacqueline', 'jacques', 'jae', 'jagessar', 'jaime', 'jain', 'jake', 'jakob', 'jakubowski', 'jal', 'jamais', 'james', 'jamie', 'jamil', 'jamila', 'jan', 'jane', 'janet', 'janette', 'jang', 'janine', 'janna', 'jansen', 'jared', 'jarreth', 'jarrett', 'jarvis', 'jason', 'jawed', 'jay', 'jayant', 'jayne', 'jd', 'jean', 'jeanne', 'jeanny', 'jedidah', 'jeff', 'jeffrey', 'jegede', 'jehane', 'jemison', 'jenkins', 'jenna', 'jenni', 'jennifer', 'jennings', 'jepsen', 'jer', 'jeremijenko', 'jeremy', 'jessa', 'jesse', 'jessi', 'jessica', 'jherek', 'ji', 'jia', 'jiang', 'jill', 'jim', 'jimmy', 'jinha', 'jinsop', 'jk', 'joachim', 'joan', 'joann', 'jobrani', 'jobs', 'jocelyne', 'jody', 'joe', 'joel', 'joey', 'johan', 'johann', 'johanna', 'johansson', 'john', 'johnny', 'johnson', 'johnston', 'joi', 'jok', 'jolly', 'jon', 'jonas', 'jonathan', 'jones', 'jordan', 'jorge', 'jorgensen', 'jose', 'joseph', 'josette', 'josh', 'joshua', 'josé', 'joubert', 'joy', 'jp', 'jr', 'juan', 'jud', 'judd', 'jude', 'judson', 'judy', 'julia', 'julian', 'juliana', 'julie', 'jun', 'junger', 'juno', 'jurvetson', 'justin', 'kabbaj', 'kabisen', 'kacyra', 'kahiu', 'kahle', 'kahn', 'kahneman', 'kailash', 'kakenya', 'kaki', 'kalanick', 'kalanithi', 'kaliouby', 'kalman', 'kamal', 'kamen', 'kamerick', 'kaminsky', 'kamkwamba', 'kamler', 'kandice', 'kang', 'kanwisher', 'kaphar', 'kaplan', 'kapur', 'kare', 'karen', 'karim', 'karima', 'karina', 'karmapa', 'karoliina', 'kartick', 'kary', 'kasaona', 'kasdin', 'kasparov', 'kass', 'katchor', 'kate', 'katherine', 'kathryn', 'kathy', 'katie', 'katragadda', 'katrin', 'katrina', 'katz', 'kavita', 'kay', 'kearns', 'kees', 'keil', 'keith', 'keller', 'kelley', 'kelli', 'kelly', 'kemp', 'ken', 'kendall', 'kenichi', 'kenneth', 'kent', 'kenyon', 'keolu', 'keren', 'kessling', 'kevin', 'khadija', 'khalida', 'khalil', 'khalili', 'khan', 'khanfar', 'khani', 'khanna', 'kid', 'kidd', 'kidron', 'killing', 'killingsworth', 'kim', 'kimberley', 'kimberlé', 'kimmel', 'king', 'kio', 'kipman', 'kiran', 'kirby', 'kirk', 'kirschner', 'kish', 'kitra', 'kk', 'klaus', 'klebold', 'klein', 'klin', 'kluger', 'kluwe', 'knabe', 'knight', 'knoepfler', 'knols', 'knut', 'koblin', 'koenig', 'koh', 'kohn', 'koller', 'korppoo', 'koska', 'kovacs', 'kowan', 'koyczan', 'kraft', 'kramer', 'krane', 'krastev', 'krause', 'kraves', 'krishnan', 'krista', 'kristen', 'kristina', 'kristine', 'kroloff', 'krosoczka', 'kuchenbecker', 'kuchera', 'kuhl', 'kuiken', 'kumar', 'kunstler', 'kuriyama', 'kurstin', 'kurup', 'kurzweil', 'kushner', 'kwabena', 'kwame', 'kwong', 'kéré', 'la', 'laberge', 'lacovara', 'ladd', 'lady', 'laine', 'lakshmi', 'lalitesh', 'lamott', 'lan', 'landes', 'landolina', 'lang', 'langhi', 'langner', 'lanting', 'laolu', 'lara', 'larkin', 'larry', 'larson', 'larsson', 'laskey', 'lassiter', 'latif', 'latoya', 'lauder', 'laufenberg', 'laura', 'lauran', 'laurel', 'lauren', 'laurie', 'lavelle', 'lawler', 'lawrence', 'laxminarayan', 'le', 'leadbeater', 'leah', 'leakey', 'leana', 'lear', 'leberecht', 'ledgett', 'lee', 'legato', 'legend', 'lehanneur', 'leila', 'lekuton', 'lemmon', 'lemn', 'lemon', 'len', 'lennart', 'lennox', 'lenz', 'leonard', 'lerner', 'lesley', 'leslie', 'lesser', 'lessig', 'lev', 'levin', 'levine', 'levitin', 'levitt', 'levy', 'lewinsky', 'lewis', 'leyla', 'leymah', 'li', 'lian', 'libeskind', 'libster', 'lidia', 'lidsky', 'lieberman', 'lifers', 'lil', 'lily', 'lim', 'lima', 'limb', 'lin', 'lind', 'linda', 'lindsey', 'linus', 'lipson', 'lipstadt', 'lisa', 'lisi', 'lissaint', 'little', 'liu', 'liukas', 'liz', 'liza', 'lloyd', 'lobo', 'lockwood', 'loftus', 'logan', 'lomborg', 'london', 'longden', 'lopez', 'lord', 'loretta', 'lorrie', 'los', 'lotto', 'lou', 'louie', 'louise', 'lovegrove', 'lovins', 'lozano', 'luber', 'lublin', 'luca', 'lucianne', 'lucien', 'lucy', 'ludwick', 'luis', 'luke', 'luma', 'luna', 'lupashin', 'lupi', 'luthra', 'lux', 'lxd', 'lyiscott', 'lynch', 'lyne', 'lynn', 'lythcott', 'lz', 'maajid', 'mac', 'macarthur', 'macaulay', 'maccready', 'macdonald', 'macgregor', 'machado', 'machover', 'mackay', 'mackinnon', 'macmaster', 'madden', 'madeleine', 'madhin', 'madiath', 'madu', 'mae', 'maeda', 'maes', 'mafundikwa', 'magda', 'magied', 'magnus', 'maheswaran', 'mahlasela', 'mahmoud', 'maira', 'maisonnier', 'majora', 'malcolm', 'mali', 'mallika', 'mallory', 'malte', 'man', 'manal', 'manchanda', 'mancini', 'mancuso', 'mandelbrot', 'mandy', 'manen', 'mankoff', 'mann', 'manoush', 'manson', 'manu', 'manuel', 'manwani', 'manwar', 'marc', 'marcel', 'marcin', 'marco', 'marcus', 'margaret', 'margolin', 'margonelli', 'marhaver', 'mari', 'maria', 'marian', 'mariana', 'mariano', 'marie', 'marina', 'marisa', 'marishane', 'mark', 'markham', 'markram', 'marks', 'markus', 'marla', 'marlene', 'marlon', 'marris', 'mars', 'marsh', 'marshall', 'martin', 'martine', 'martins', 'marvel', 'marvin', 'marwa', 'mary', 'maryn', 'mashelkar', 'massimo', 'matas', 'mather', 'mathias', 'mathieu', 'matreyek', 'matt', 'matthew', 'matthieu', 'maurice', 'maurizio', 'max', 'maya', 'mayassa', 'mayne', 'maysoon', 'maz', 'mazzucato', 'mbubi', 'mcafee', 'mccall', 'mccallum', 'mccandless', 'mccarthy', 'mcchrystal', 'mccloud', 'mccue', 'mcdaniel', 'mcdonough', 'mcdougall', 'mcfadden', 'mcferrin', 'mcgilchrist', 'mcgonigal', 'mcgrath', 'mcgregor', 'mckay', 'mckean', 'mckenna', 'mcknett', 'mclaren', 'mcnamee', 'mcrae', 'mcwhorter', 'mead', 'meade', 'meaghan', 'meattle', 'mechai', 'medan', 'medici', 'meera', 'meg', 'megan', 'mehdi', 'meindertsma', 'meklit', 'melati', 'melinda', 'melissa', 'mellody', 'melvin', 'memory', 'mena', 'meng', 'merced', 'merchant', 'merkley', 'meron', 'merrill', 'merz', 'merzenich', 'meslin', 'mesquita', 'metcalfe', 'meyer', 'mi', 'mia', 'michael', 'michel', 'michele', 'michelle', 'mick', 'midon', 'miebach', 'miesenboeck', 'miguel', 'mihaiu', 'mihaly', 'mike', 'mikko', 'milan', 'mileha', 'milgram', 'miliband', 'milk', 'miller', 'mills', 'milton', 'mina', 'minsky', 'miranda', 'miriam', 'miru', 'misha', 'mishra', 'missmahl', 'mistry', 'mitch', 'mitchell', 'mitra', 'miurin', 'miwa', 'mizrahi', 'moeliker', 'mogahed', 'mohamed', 'mohammed', 'mohr', 'mohutsiwa', 'mokobe', 'molinari', 'moller', 'molly', 'molyneux', 'mona', 'monbiot', 'monica', 'monika', 'monks', 'montague', 'mooallem', 'moon', 'moore', 'moot', 'morgan', 'morgana', 'morieux', 'morillo', 'morin', 'morley', 'morozov', 'morris', 'moschen', 'moshe', 'mota', 'motley', 'mouly', 'mountz', 'moyo', 'mracek', 'msezane', 'msimang', 'mthunzi', 'mufleh', 'muggah', 'mukherjee', 'mulgan', 'mulheir', 'mullainathan', 'mullen', 'mullins', 'mullis', 'mundano', 'munir', 'muniz', 'munroe', 'murabit', 'murchison', 'murphy', 'murray', 'muruganantham', 'musallam', 'musk', 'mustafa', 'mutawa', 'mwangi', 'mwenda', 'myers', 'myhrvold', 'myriam', 'nachtwey', 'nadelmann', 'nadia', 'nadine', 'nadkarni', 'nagin', 'nagle', 'nagpal', 'naidoo', 'naif', 'nalini', 'nancy', 'nandan', 'naná', 'naomi', 'napoleoni', 'narayan', 'narayanan', 'narula', 'nasser', 'natalie', 'natasha', 'nate', 'nathalie', 'nathan', 'nathaniel', 'natterson', 'naturally', 'navi', 'nawaz', 'nazario', 'neave', 'negin', 'negroponte', 'neha', 'neil', 'neill', 'nellie', 'nelson', 'neri', 'neshat', 'neuwirth', 'new', 'newberger', 'newton', 'ngozi', 'nguyen', 'niall', 'nic', 'nicholas', 'nick', 'nicklen', 'nicolas', 'nicole', 'nicolelis', 'niels', 'nielsen', 'niese', 'nigel', 'niki', 'nikolai', 'nilekani', 'nilofer', 'nina', 'nip', 'nirenberg', 'nirmalya', 'nizar', 'noah', 'nobre', 'noel', 'nolan', 'nonny', 'nora', 'noreena', 'noriko', 'norman', 'norris', 'norton', 'norvig', 'noujaim', 'noveck', 'novogratz', 'noy', 'ntaiya', 'nugent', 'nuland', 'nutt', 'nyad', 'nyamayaro', 'nye', 'néry', 'obaid', 'obama', 'obeng', 'ockelford', 'oded', 'odedra', 'oefner', 'ohanian', 'ok', 'okolloh', 'okonjo', 'okuk', 'ola', 'olafur', 'ole', 'oliver', 'olivier', 'olu', 'olutimehin', 'omar', 'omenetto', 'onie', 'onora', 'onyx', 'opal', 'oransky', 'orchestra', 'ordikhani', 'oren', 'orenstein', 'oreskes', 'orff', 'ornish', 'orofino', 'ory', 'oscar', 'oster', 'ostrow', 'oxman', 'oyesola', 'pacholke', 'pachter', 'paddy', 'paes', 'page', 'pagel', 'pahlka', 'palin', 'pallotta', 'palmer', 'palumbi', 'pam', 'pamela', 'pamelia', 'panek', 'panjabi', 'pankaj', 'paola', 'paolo', 'papandreou', 'parag', 'paraorchestra', 'paravicini', 'parcak', 'pardis', 'paris', 'pariser', 'park', 'parrot', 'parry', 'parsi', 'parsons', 'parul', 'parvin', 'pasricha', 'patek', 'patel', 'patience', 'patricia', 'patrick', 'patrisse', 'patrícia', 'patsy', 'pattanaik', 'patten', 'pattie', 'patton', 'paul', 'paula', 'paulson', 'pauly', 'pausch', 'pavan', 'pawan', 'pawlyn', 'pearl', 'peccerelli', 'peggy', 'peleg', 'pelling', 'penelope', 'penn', 'percussion', 'perel', 'perony', 'perry', 'pesce', 'peschak', 'pete', 'peter', 'peterson', 'petit', 'petranek', 'petsko', 'petzinger', 'peña', 'peñalosa', 'phelps', 'phil', 'philip', 'philippa', 'philippe', 'phillips', 'pholeros', 'phyllis', 'pia', 'picado', 'piccard', 'pickens', 'pico', 'pierre', 'pierson', 'piff', 'pike', 'piketty', 'pilloton', 'pilobolus', 'pin', 'pine', 'pink', 'pinker', 'pinney', 'pisani', 'pistorius', 'pizarro', 'plait', 'plankton', 'plotkin', 'pluznick', 'pogge', 'pogue', 'poinar', 'pollan', 'pontin', 'poole', 'pope', 'popovic', 'poppy', 'porco', 'porter', 'posada', 'postrel', 'potter', 'potts', 'powell', 'power', 'poynter', 'pradhan', 'prager', 'prakash', 'pranav', 'pratury', 'president', 'prestero', 'preston', 'pretor', 'priebatsch', 'prince', 'pritchard', 'project', 'prosanta', 'provoost', 'puddicombe', 'pugh', 'puppet', 'purdy', 'puttnam', 'pyle', 'pääbo', 'pérez', 'péter', 'qi', 'qiu', 'quadir', 'quattromani', 'quercia', 'quixotic', 'quyen', 'rabbi', 'rachel', 'rachelle', 'radhika', 'radjou', 'raffaello', 'raghava', 'rahwan', 'raibert', 'rainer', 'rainn', 'raj', 'rajesh', 'rajiv', 'ralph', 'rama', 'ramachandran', 'ramanan', 'ramdas', 'ramesh', 'ramirez', 'ramona', 'ramos', 'ramsey', 'ramus', 'rana', 'randall', 'randi', 'randy', 'rangaswami', 'rao', 'raptopoulos', 'raqib', 'rasikh', 'raskar', 'raspyni', 'rast', 'ratha', 'ratti', 'rauf', 'raul', 'ravenell', 'ravilla', 'ravin', 'rawsthorn', 'ray', 'raymond', 'read', 'reader', 'rebecca', 'redlener', 'redmon', 'reed', 'rees', 'reeves', 'reggie', 'regina', 'reichental', 'reid', 'reil', 'reilly', 'reinhart', 'reisel', 'reiss', 'renata', 'renny', 'reshef', 'reshma', 'resnick', 'reuben', 'reyes', 'rheingold', 'rhiannon', 'rhim', 'rhimes', 'rhodes', 'riaz', 'ric', 'ricard', 'ricardo', 'riccardo', 'rich', 'richard', 'richards', 'richen', 'rick', 'rickard', 'ridley', 'rielly', 'rifkin', 'riley', 'rinaudo', 'rios', 'rishi', 'rita', 'ritchie', 'ritz', 'rives', 'roach', 'road', 'rob', 'robb', 'robbins', 'robert', 'roberto', 'roberts', 'robertson', 'robin', 'robinson', 'robyn', 'rocero', 'roche', 'rockstrom', 'rockwell', 'rodenburg', 'rodney', 'rodrigo', 'rodriguez', 'roger', 'rogier', 'rokia', 'roman', 'romer', 'romero', 'romina', 'romulus', 'ron', 'ronald', 'ronny', 'ronson', 'roode', 'roosegaarde', 'root', 'roper', 'rory', 'rose', 'rosedale', 'roselinde', 'rosie', 'rosin', 'rosling', 'ross', 'rossiter', 'rossy', 'roth', 'rothblatt', 'rothemund', 'rothkopf', 'rotich', 'rowan', 'rowe', 'rowling', 'roxane', 'roy', 'roz', 'rubin', 'rubinstein', 'ruby', 'rudd', 'rufus', 'ruiz', 'rukh', 'rumbaugh', 'rupal', 'russ', 'russell', 'rutan', 'rutger', 'ruth', 'ruzo', 'ryan', 'ryle', 'sabatini', 'sabeti', 'sabia', 'sabouni', 'sacchi', 'sacks', 'sadik', 'sadoway', 'sadowsky', 'safdie', 'safina', 'safwat', 'sagmeister', 'sajay', 'sakena', 'saki', 'sakkaf', 'saks', 'sal', 'sala', 'salbi', 'salecl', 'saleem', 'salgado', 'salil', 'salinas', 'sally', 'saltman', 'salvatore', 'sam', 'samantha', 'samuel', 'sandberg', 'sandel', 'sanderson', 'sandi', 'sandra', 'sandrine', 'sanford', 'sangeeta', 'sangu', 'sanjay', 'sankar', 'santos', 'sapolsky', 'sara', 'sarabhai', 'saraceno', 'sarah', 'saraswati', 'sasa', 'sasha', 'sasselov', 'satyanarayan', 'satyarthi', 'saujani', 'saul', 'saunders', 'sauro', 'sautoy', 'savage', 'savino', 'savitz', 'savory', 'saxe', 'sayeg', 'sayu', 'scalabre', 'schacht', 'schaefer', 'scheeren', 'schell', 'scher', 'schlangen', 'schleicher', 'schmidt', 'schneider', 'schneier', 'schnitzer', 'schocken', 'schoonover', 'schramm', 'schuler', 'schulz', 'schwaitzberg', 'schwartz', 'schwartzberg', 'scilla', 'scott', 'scranton', 'seager', 'seaman', 'sean', 'searle', 'sears', 'seaver', 'sebastian', 'sebastián', 'sebastião', 'seckel', 'sedlak', 'seed', 'seema', 'sehgal', 'selanikio', 'selasi', 'seligman', 'semler', 'senbanjo', 'sendhil', 'sengeh', 'senghor', 'senior', 'seracini', 'serena', 'sereno', 'sergei', 'sergey', 'seth', 'sethembile', 'sethi', 'setrakian', 'seung', 'severine', 'seyedlar', 'seyi', 'seymour', 'shabana', 'shafak', 'shaffi', 'shah', 'shai', 'shaikh', 'shaka', 'shane', 'shankar', 'shankardass', 'shannon', 'shaolan', 'shapshak', 'shargaa', 'sharif', 'sharma', 'sharmeen', 'sharon', 'sharot', 'shashi', 'shaw', 'shawn', 'shea', 'sheena', 'sheeran', 'shehab', 'sheikha', 'sheila', 'shekhar', 'shellenberger', 'shepherd', 'shereen', 'shermer', 'sherry', 'sherwin', 'sheryl', 'shields', 'shigeru', 'shih', 'shilo', 'shimon', 'shimpei', 'shinozuka', 'shirey', 'shirin', 'shirky', 'shirley', 'shiv', 'shivani', 'shlomo', 'shonda', 'shortall', 'shoseyov', 'shostak', 'shree', 'shubhendu', 'shukla', 'shyam', 'siamak', 'siddhartha', 'siddharthan', 'sidibe', 'siegel', 'siegfried', 'sigman', 'sign', 'silberman', 'silk', 'silver', 'simard', 'simmons', 'simon', 'simoncelli', 'simons', 'sinclair', 'sinek', 'singer', 'sinha', 'sinéad', 'sirena', 'sirolli', 'siroya', 'sisonke', 'sissay', 'sitawa', 'sivamani', 'sivers', 'siyanda', 'skerry', 'skoll', 'skylar', 'slaughter', 'slavin', 'sleepy', 'slutkin', 'smith', 'smits', 'smolan', 'smolin', 'smoot', 'snelgrove', 'snowden', 'snyder', 'sobule', 'sofi', 'sofia', 'soghoian', 'sokoloff', 'soldner', 'soler', 'solomon', 'sonaar', 'soneji', 'sonia', 'sood', 'sophal', 'sophie', 'sorensen', 'sornette', 'soth', 'soto', 'spack', 'spade', 'speck', 'specter', 'spencer', 'spitz', 'spivak', 'spurlock', 'sr', 'srdja', 'srikumar', 'st', 'stacey', 'stacy', 'stadlmann', 'staff', 'stafford', 'stamets', 'stanley', 'stanton', 'starck', 'stark', 'stavridis', 'steel', 'stefan', 'stefana', 'stefano', 'steffen', 'stefon', 'stein', 'steinberg', 'steindl', 'steiner', 'stella', 'stephanie', 'stephen', 'stern', 'steve', 'steven', 'stevens', 'stevenson', 'stew', 'stewart', 'sting', 'stock', 'stokes', 'stoll', 'stone', 'strack', 'stranger', 'street', 'strickland', 'strogatz', 'stuart', 'støre', 'suarez', 'sue', 'sugata', 'suheir', 'sukhdev', 'suki', 'suleman', 'sullivan', 'summit', 'sumner', 'sun', 'sung', 'sunitha', 'sunni', 'surace', 'surowiecki', 'susan', 'susskind', 'sussman', 'sutherland', 'suzana', 'suzanne', 'svante', 'svitak', 'swan', 'swaniker', 'swazey', 'sweeney', 'sxip', 'sylvia', 'syson', 'szabó', 'szyf', 'sáenz', 'sánchez', 'sō', 'ta', 'tabarrok', 'tabetha', 'tabick', 'taiye', 'takaharu', 'takahashi', 'takei', 'tal', 'talgam', 'talhouk', 'tali', 'talithia', 'tammet', 'tan', 'tandon', 'tania', 'tapscott', 'tara', 'tariq', 'tarter', 'taryn', 'tasos', 'tasso', 'tavi', 'taylor', 'taymor', 'tea', 'teddy', 'teeling', 'teitur', 'teller', 'tempest', 'temple', 'tenner', 'tepperman', 'teresa', 'terry', 'tezuka', 'thandie', 'tharoor', 'theaster', 'thelma', 'theo', 'thiam', 'thom', 'thomas', 'thompson', 'thordis', 'thorp', 'thrun', 'thrupkaew', 'thulasiraj', 'thum', 'thuret', 'thurman', 'thwaites', 'thys', 'tibbits', 'tierney', 'tillemann', 'tillett', 'tilson', 'tim', 'timm', 'timothy', 'tippett', 'tipping', 'tiq', 'titanji', 'titus', 'tobgay', 'toby', 'tod', 'todd', 'toksvig', 'tom', 'toma', 'tometi', 'tomlin', 'tong', 'toni', 'tony', 'toole', 'toomey', 'topher', 'topol', 'torres', 'torsten', 'torturra', 'torvalds', 'tracy', 'traffic', 'traore', 'travis', 'treasure', 'trent', 'trevor', 'trice', 'tricia', 'trio', 'triona', 'tripathi', 'tristan', 'tristram', 'trita', 'trollback', 'trott', 'troxel', 'troy', 'truglia', 'tsakos', 'tse', 'tshering', 'tsiaras', 'tudor', 'tufekci', 'tukker', 'tulevski', 'tulley', 'turere', 'turin', 'turkle', 'turok', 'tyack', 'tyler', 'tyrone', 'tzemach', 'tómasdóttir', 'ueli', 'uglow', 'uhm', 'ulbrich', 'uldus', 'underkoffler', 'urban', 'uri', 'urmson', 'ursus', 'ury', 'usman', 'utko', 'vaid', 'van', 'vance', 'vanderkam', 'vanengelsdorp', 'vanessa', 'vardi', 'varma', 'varoufakis', 'varty', 'vasconcelos', 'vaynerchuk', 'veasey', 'veerle', 'veitch', 'velings', 'venetikidis', 'venkatraman', 'venter', 'verghese', 'vermeulen', 'vernacchio', 'vernā', 'vertes', 'vicki', 'victor', 'vijay', 'vijayann', 'vik', 'vikram', 'viktor', 'vilalta', 'vilariño', 'vilayanur', 'villani', 'villeneuve', 'vinay', 'vincent', 'vint', 'virani', 'viravaidya', 'virginia', 'vishal', 'volkman', 'von', 'vos', 'vs', 'vucinic', 'vusi', 'waal', 'wadah', 'wade', 'wael', 'wafi', 'wafula', 'wagner', 'waldinger', 'wales', 'walker', 'walkowicz', 'wall', 'wallace', 'wallach', 'walters', 'wanda', 'wang', 'wanis', 'wanuri', 'wapnick', 'warburg', 'ward', 'wardeh', 'warhurst', 'warinner', 'warne', 'warren', 'washburn', 'washington', 'watson', 'watts', 'watzke', 'wax', 'wayman', 'wayne', 'wayua', 'webb', 'weetjens', 'wehrli', 'weinstein', 'weinstock', 'weller', 'wellington', 'wells', 'wen', 'wendy', 'wernicke', 'wertheim', 'wes', 'wessel', 'west', 'whitacre', 'whitaker', 'white', 'whitesides', 'whyte', 'wicker', 'widder', 'wigan', 'wijsen', 'wilbanks', 'wilkes', 'wilkinson', 'willard', 'willer', 'william', 'williams', 'willie', 'wilson', 'winch', 'wingham', 'winkler', 'winter', 'wise', 'wissner', 'wo', 'woldhek', 'wolf', 'wolfe', 'wolff', 'wolfgang', 'wolfram', 'wolpe', 'wolpert', 'wong', 'woo', 'wood', 'wooden', 'woody', 'wright', 'wudunn', 'wujec', 'wyatt', 'wyss', 'xavier', 'xu', 'yacoobi', 'yakobovich', 'yang', 'yanis', 'yann', 'yao', 'yasheng', 'yassmin', 'yellin', 'yen', 'ynnerman', 'yoav', 'yochai', 'yong', 'york', 'yoruba', 'yossi', 'youn', 'young', 'yousafzai', 'youth', 'yuknavitch', 'yuval', 'yves', 'zach', 'zahab', 'zahra', 'zainab', 'zak', 'zalaznick', 'zander', 'zaria', 'zayid', 'ze', 'zeisel', 'zerda', 'zeresenay', 'zeynep', 'zhang', 'ziauddin', 'zichermann', 'zimbardo', 'zittrain', 'ziyah', 'zoila', 'zomorodi', 'zubaida', 'zuckerman', 'zuk'] not in stop_words.\n",
            "  'stop_words.' % sorted(inconsistent))\n"
          ],
          "name": "stderr"
        }
      ]
    },
    {
      "cell_type": "code",
      "metadata": {
        "id": "4fObnyUz5Wj4",
        "colab_type": "code",
        "colab": {}
      },
      "source": [
        "title_df = pd.DataFrame(data= title_words.todense(), columns = vec.get_feature_names())"
      ],
      "execution_count": 0,
      "outputs": []
    },
    {
      "cell_type": "code",
      "metadata": {
        "id": "ApIX_iW5Ax-Q",
        "colab_type": "code",
        "outputId": "95ea6416-4b24-459f-8578-f256e6e2b5a5",
        "colab": {
          "base_uri": "https://localhost:8080/",
          "height": 253
        }
      },
      "source": [
        "title_df.head()"
      ],
      "execution_count": 0,
      "outputs": [
        {
          "output_type": "execute_result",
          "data": {
            "text/html": [
              "<div>\n",
              "<style scoped>\n",
              "    .dataframe tbody tr th:only-of-type {\n",
              "        vertical-align: middle;\n",
              "    }\n",
              "\n",
              "    .dataframe tbody tr th {\n",
              "        vertical-align: top;\n",
              "    }\n",
              "\n",
              "    .dataframe thead th {\n",
              "        text-align: right;\n",
              "    }\n",
              "</style>\n",
              "<table border=\"1\" class=\"dataframe\">\n",
              "  <thead>\n",
              "    <tr style=\"text-align: right;\">\n",
              "      <th></th>\n",
              "      <th>actually</th>\n",
              "      <th>art</th>\n",
              "      <th>artist</th>\n",
              "      <th>asks</th>\n",
              "      <th>author</th>\n",
              "      <th>beautiful</th>\n",
              "      <th>best</th>\n",
              "      <th>better</th>\n",
              "      <th>big</th>\n",
              "      <th>body</th>\n",
              "      <th>bold</th>\n",
              "      <th>brain</th>\n",
              "      <th>bring</th>\n",
              "      <th>build</th>\n",
              "      <th>building</th>\n",
              "      <th>calls</th>\n",
              "      <th>case</th>\n",
              "      <th>change</th>\n",
              "      <th>city</th>\n",
              "      <th>come</th>\n",
              "      <th>community</th>\n",
              "      <th>complex</th>\n",
              "      <th>country</th>\n",
              "      <th>create</th>\n",
              "      <th>creative</th>\n",
              "      <th>culture</th>\n",
              "      <th>data</th>\n",
              "      <th>david</th>\n",
              "      <th>day</th>\n",
              "      <th>deep</th>\n",
              "      <th>describes</th>\n",
              "      <th>design</th>\n",
              "      <th>designer</th>\n",
              "      <th>different</th>\n",
              "      <th>disease</th>\n",
              "      <th>does</th>\n",
              "      <th>earth</th>\n",
              "      <th>end</th>\n",
              "      <th>energy</th>\n",
              "      <th>experience</th>\n",
              "      <th>...</th>\n",
              "      <th>short</th>\n",
              "      <th>shows</th>\n",
              "      <th>simple</th>\n",
              "      <th>social</th>\n",
              "      <th>start</th>\n",
              "      <th>stories</th>\n",
              "      <th>story</th>\n",
              "      <th>studies</th>\n",
              "      <th>suggests</th>\n",
              "      <th>surprising</th>\n",
              "      <th>takes</th>\n",
              "      <th>team</th>\n",
              "      <th>technology</th>\n",
              "      <th>tell</th>\n",
              "      <th>tells</th>\n",
              "      <th>things</th>\n",
              "      <th>think</th>\n",
              "      <th>thinking</th>\n",
              "      <th>time</th>\n",
              "      <th>today</th>\n",
              "      <th>understand</th>\n",
              "      <th>use</th>\n",
              "      <th>uses</th>\n",
              "      <th>using</th>\n",
              "      <th>ve</th>\n",
              "      <th>video</th>\n",
              "      <th>vision</th>\n",
              "      <th>want</th>\n",
              "      <th>war</th>\n",
              "      <th>watch</th>\n",
              "      <th>way</th>\n",
              "      <th>ways</th>\n",
              "      <th>women</th>\n",
              "      <th>work</th>\n",
              "      <th>working</th>\n",
              "      <th>works</th>\n",
              "      <th>world</th>\n",
              "      <th>year</th>\n",
              "      <th>years</th>\n",
              "      <th>young</th>\n",
              "    </tr>\n",
              "  </thead>\n",
              "  <tbody>\n",
              "    <tr>\n",
              "      <th>0</th>\n",
              "      <td>0.000</td>\n",
              "      <td>0.000</td>\n",
              "      <td>0.000</td>\n",
              "      <td>0.000</td>\n",
              "      <td>0.000</td>\n",
              "      <td>0.000</td>\n",
              "      <td>0.000</td>\n",
              "      <td>0.000</td>\n",
              "      <td>0.000</td>\n",
              "      <td>0.000</td>\n",
              "      <td>0.000</td>\n",
              "      <td>0.000</td>\n",
              "      <td>0.000</td>\n",
              "      <td>0.000</td>\n",
              "      <td>0.000</td>\n",
              "      <td>0.000</td>\n",
              "      <td>0.589</td>\n",
              "      <td>0.000</td>\n",
              "      <td>0.000</td>\n",
              "      <td>0.000</td>\n",
              "      <td>0.000</td>\n",
              "      <td>0.000</td>\n",
              "      <td>0.000</td>\n",
              "      <td>0.000</td>\n",
              "      <td>0.000</td>\n",
              "      <td>0.000</td>\n",
              "      <td>0.000</td>\n",
              "      <td>0.000</td>\n",
              "      <td>0.000</td>\n",
              "      <td>0.000</td>\n",
              "      <td>0.000</td>\n",
              "      <td>0.000</td>\n",
              "      <td>0.000</td>\n",
              "      <td>0.000</td>\n",
              "      <td>0.000</td>\n",
              "      <td>0.000</td>\n",
              "      <td>0.000</td>\n",
              "      <td>0.000</td>\n",
              "      <td>0.000</td>\n",
              "      <td>0.000</td>\n",
              "      <td>...</td>\n",
              "      <td>0.000</td>\n",
              "      <td>0.000</td>\n",
              "      <td>0.000</td>\n",
              "      <td>0.000</td>\n",
              "      <td>0.000</td>\n",
              "      <td>0.000</td>\n",
              "      <td>0.000</td>\n",
              "      <td>0.000</td>\n",
              "      <td>0.000</td>\n",
              "      <td>0.000</td>\n",
              "      <td>0.000</td>\n",
              "      <td>0.000</td>\n",
              "      <td>0.000</td>\n",
              "      <td>0.000</td>\n",
              "      <td>0.000</td>\n",
              "      <td>0.000</td>\n",
              "      <td>0.000</td>\n",
              "      <td>0.000</td>\n",
              "      <td>0.000</td>\n",
              "      <td>0.000</td>\n",
              "      <td>0.000</td>\n",
              "      <td>0.000</td>\n",
              "      <td>0.000</td>\n",
              "      <td>0.000</td>\n",
              "      <td>0.000</td>\n",
              "      <td>0.000</td>\n",
              "      <td>0.000</td>\n",
              "      <td>0.000</td>\n",
              "      <td>0.000</td>\n",
              "      <td>0.000</td>\n",
              "      <td>0.000</td>\n",
              "      <td>0.000</td>\n",
              "      <td>0.000</td>\n",
              "      <td>0.000</td>\n",
              "      <td>0.000</td>\n",
              "      <td>0.000</td>\n",
              "      <td>0.000</td>\n",
              "      <td>0.000</td>\n",
              "      <td>0.000</td>\n",
              "      <td>0.000</td>\n",
              "    </tr>\n",
              "    <tr>\n",
              "      <th>1</th>\n",
              "      <td>0.000</td>\n",
              "      <td>0.000</td>\n",
              "      <td>0.000</td>\n",
              "      <td>0.000</td>\n",
              "      <td>0.000</td>\n",
              "      <td>0.000</td>\n",
              "      <td>0.000</td>\n",
              "      <td>0.000</td>\n",
              "      <td>0.000</td>\n",
              "      <td>0.000</td>\n",
              "      <td>0.000</td>\n",
              "      <td>0.000</td>\n",
              "      <td>0.000</td>\n",
              "      <td>0.000</td>\n",
              "      <td>0.000</td>\n",
              "      <td>0.000</td>\n",
              "      <td>0.000</td>\n",
              "      <td>0.431</td>\n",
              "      <td>0.000</td>\n",
              "      <td>0.000</td>\n",
              "      <td>0.000</td>\n",
              "      <td>0.000</td>\n",
              "      <td>0.000</td>\n",
              "      <td>0.000</td>\n",
              "      <td>0.000</td>\n",
              "      <td>0.000</td>\n",
              "      <td>0.000</td>\n",
              "      <td>0.000</td>\n",
              "      <td>0.000</td>\n",
              "      <td>0.000</td>\n",
              "      <td>0.000</td>\n",
              "      <td>0.000</td>\n",
              "      <td>0.000</td>\n",
              "      <td>0.000</td>\n",
              "      <td>0.000</td>\n",
              "      <td>0.000</td>\n",
              "      <td>0.000</td>\n",
              "      <td>0.000</td>\n",
              "      <td>0.000</td>\n",
              "      <td>0.000</td>\n",
              "      <td>...</td>\n",
              "      <td>0.000</td>\n",
              "      <td>0.000</td>\n",
              "      <td>0.000</td>\n",
              "      <td>0.000</td>\n",
              "      <td>0.000</td>\n",
              "      <td>0.000</td>\n",
              "      <td>0.000</td>\n",
              "      <td>0.000</td>\n",
              "      <td>0.000</td>\n",
              "      <td>0.000</td>\n",
              "      <td>0.000</td>\n",
              "      <td>0.000</td>\n",
              "      <td>0.000</td>\n",
              "      <td>0.000</td>\n",
              "      <td>0.000</td>\n",
              "      <td>0.000</td>\n",
              "      <td>0.000</td>\n",
              "      <td>0.000</td>\n",
              "      <td>0.000</td>\n",
              "      <td>0.000</td>\n",
              "      <td>0.000</td>\n",
              "      <td>0.000</td>\n",
              "      <td>0.000</td>\n",
              "      <td>0.000</td>\n",
              "      <td>0.000</td>\n",
              "      <td>0.000</td>\n",
              "      <td>0.000</td>\n",
              "      <td>0.000</td>\n",
              "      <td>0.000</td>\n",
              "      <td>0.000</td>\n",
              "      <td>0.000</td>\n",
              "      <td>0.459</td>\n",
              "      <td>0.000</td>\n",
              "      <td>0.000</td>\n",
              "      <td>0.000</td>\n",
              "      <td>0.000</td>\n",
              "      <td>0.000</td>\n",
              "      <td>0.000</td>\n",
              "      <td>0.000</td>\n",
              "      <td>0.000</td>\n",
              "    </tr>\n",
              "    <tr>\n",
              "      <th>2</th>\n",
              "      <td>0.000</td>\n",
              "      <td>0.000</td>\n",
              "      <td>0.000</td>\n",
              "      <td>0.000</td>\n",
              "      <td>0.000</td>\n",
              "      <td>0.000</td>\n",
              "      <td>0.000</td>\n",
              "      <td>0.000</td>\n",
              "      <td>0.000</td>\n",
              "      <td>0.000</td>\n",
              "      <td>0.000</td>\n",
              "      <td>0.000</td>\n",
              "      <td>0.000</td>\n",
              "      <td>0.000</td>\n",
              "      <td>0.000</td>\n",
              "      <td>0.000</td>\n",
              "      <td>0.000</td>\n",
              "      <td>0.000</td>\n",
              "      <td>0.000</td>\n",
              "      <td>0.000</td>\n",
              "      <td>0.000</td>\n",
              "      <td>0.000</td>\n",
              "      <td>0.000</td>\n",
              "      <td>0.000</td>\n",
              "      <td>0.000</td>\n",
              "      <td>0.000</td>\n",
              "      <td>0.000</td>\n",
              "      <td>0.383</td>\n",
              "      <td>0.000</td>\n",
              "      <td>0.000</td>\n",
              "      <td>0.000</td>\n",
              "      <td>0.354</td>\n",
              "      <td>0.000</td>\n",
              "      <td>0.000</td>\n",
              "      <td>0.000</td>\n",
              "      <td>0.000</td>\n",
              "      <td>0.000</td>\n",
              "      <td>0.000</td>\n",
              "      <td>0.000</td>\n",
              "      <td>0.000</td>\n",
              "      <td>...</td>\n",
              "      <td>0.000</td>\n",
              "      <td>0.000</td>\n",
              "      <td>0.000</td>\n",
              "      <td>0.000</td>\n",
              "      <td>0.000</td>\n",
              "      <td>0.000</td>\n",
              "      <td>0.000</td>\n",
              "      <td>0.000</td>\n",
              "      <td>0.000</td>\n",
              "      <td>0.000</td>\n",
              "      <td>0.366</td>\n",
              "      <td>0.000</td>\n",
              "      <td>0.342</td>\n",
              "      <td>0.000</td>\n",
              "      <td>0.000</td>\n",
              "      <td>0.374</td>\n",
              "      <td>0.000</td>\n",
              "      <td>0.000</td>\n",
              "      <td>0.000</td>\n",
              "      <td>0.000</td>\n",
              "      <td>0.000</td>\n",
              "      <td>0.000</td>\n",
              "      <td>0.000</td>\n",
              "      <td>0.000</td>\n",
              "      <td>0.000</td>\n",
              "      <td>0.000</td>\n",
              "      <td>0.000</td>\n",
              "      <td>0.000</td>\n",
              "      <td>0.000</td>\n",
              "      <td>0.000</td>\n",
              "      <td>0.000</td>\n",
              "      <td>0.000</td>\n",
              "      <td>0.000</td>\n",
              "      <td>0.000</td>\n",
              "      <td>0.000</td>\n",
              "      <td>0.000</td>\n",
              "      <td>0.000</td>\n",
              "      <td>0.000</td>\n",
              "      <td>0.000</td>\n",
              "      <td>0.000</td>\n",
              "    </tr>\n",
              "    <tr>\n",
              "      <th>3</th>\n",
              "      <td>0.000</td>\n",
              "      <td>0.000</td>\n",
              "      <td>0.000</td>\n",
              "      <td>0.000</td>\n",
              "      <td>0.000</td>\n",
              "      <td>0.000</td>\n",
              "      <td>0.000</td>\n",
              "      <td>0.000</td>\n",
              "      <td>0.000</td>\n",
              "      <td>0.000</td>\n",
              "      <td>0.000</td>\n",
              "      <td>0.000</td>\n",
              "      <td>0.000</td>\n",
              "      <td>0.000</td>\n",
              "      <td>0.000</td>\n",
              "      <td>0.000</td>\n",
              "      <td>0.000</td>\n",
              "      <td>0.000</td>\n",
              "      <td>0.000</td>\n",
              "      <td>0.000</td>\n",
              "      <td>0.000</td>\n",
              "      <td>0.000</td>\n",
              "      <td>0.000</td>\n",
              "      <td>0.000</td>\n",
              "      <td>0.000</td>\n",
              "      <td>0.000</td>\n",
              "      <td>0.000</td>\n",
              "      <td>0.000</td>\n",
              "      <td>0.000</td>\n",
              "      <td>0.000</td>\n",
              "      <td>0.000</td>\n",
              "      <td>0.000</td>\n",
              "      <td>0.000</td>\n",
              "      <td>0.000</td>\n",
              "      <td>0.000</td>\n",
              "      <td>0.000</td>\n",
              "      <td>0.000</td>\n",
              "      <td>0.000</td>\n",
              "      <td>0.000</td>\n",
              "      <td>0.000</td>\n",
              "      <td>...</td>\n",
              "      <td>0.000</td>\n",
              "      <td>1.000</td>\n",
              "      <td>0.000</td>\n",
              "      <td>0.000</td>\n",
              "      <td>0.000</td>\n",
              "      <td>0.000</td>\n",
              "      <td>0.000</td>\n",
              "      <td>0.000</td>\n",
              "      <td>0.000</td>\n",
              "      <td>0.000</td>\n",
              "      <td>0.000</td>\n",
              "      <td>0.000</td>\n",
              "      <td>0.000</td>\n",
              "      <td>0.000</td>\n",
              "      <td>0.000</td>\n",
              "      <td>0.000</td>\n",
              "      <td>0.000</td>\n",
              "      <td>0.000</td>\n",
              "      <td>0.000</td>\n",
              "      <td>0.000</td>\n",
              "      <td>0.000</td>\n",
              "      <td>0.000</td>\n",
              "      <td>0.000</td>\n",
              "      <td>0.000</td>\n",
              "      <td>0.000</td>\n",
              "      <td>0.000</td>\n",
              "      <td>0.000</td>\n",
              "      <td>0.000</td>\n",
              "      <td>0.000</td>\n",
              "      <td>0.000</td>\n",
              "      <td>0.000</td>\n",
              "      <td>0.000</td>\n",
              "      <td>0.000</td>\n",
              "      <td>0.000</td>\n",
              "      <td>0.000</td>\n",
              "      <td>0.000</td>\n",
              "      <td>0.000</td>\n",
              "      <td>0.000</td>\n",
              "      <td>0.000</td>\n",
              "      <td>0.000</td>\n",
              "    </tr>\n",
              "    <tr>\n",
              "      <th>4</th>\n",
              "      <td>0.000</td>\n",
              "      <td>0.000</td>\n",
              "      <td>0.000</td>\n",
              "      <td>0.000</td>\n",
              "      <td>0.000</td>\n",
              "      <td>0.000</td>\n",
              "      <td>0.396</td>\n",
              "      <td>0.000</td>\n",
              "      <td>0.000</td>\n",
              "      <td>0.000</td>\n",
              "      <td>0.000</td>\n",
              "      <td>0.000</td>\n",
              "      <td>0.000</td>\n",
              "      <td>0.000</td>\n",
              "      <td>0.000</td>\n",
              "      <td>0.000</td>\n",
              "      <td>0.000</td>\n",
              "      <td>0.000</td>\n",
              "      <td>0.000</td>\n",
              "      <td>0.000</td>\n",
              "      <td>0.000</td>\n",
              "      <td>0.000</td>\n",
              "      <td>0.000</td>\n",
              "      <td>0.000</td>\n",
              "      <td>0.000</td>\n",
              "      <td>0.000</td>\n",
              "      <td>0.333</td>\n",
              "      <td>0.000</td>\n",
              "      <td>0.000</td>\n",
              "      <td>0.000</td>\n",
              "      <td>0.000</td>\n",
              "      <td>0.000</td>\n",
              "      <td>0.000</td>\n",
              "      <td>0.000</td>\n",
              "      <td>0.000</td>\n",
              "      <td>0.000</td>\n",
              "      <td>0.000</td>\n",
              "      <td>0.000</td>\n",
              "      <td>0.000</td>\n",
              "      <td>0.000</td>\n",
              "      <td>...</td>\n",
              "      <td>0.000</td>\n",
              "      <td>0.000</td>\n",
              "      <td>0.000</td>\n",
              "      <td>0.000</td>\n",
              "      <td>0.000</td>\n",
              "      <td>0.000</td>\n",
              "      <td>0.000</td>\n",
              "      <td>0.000</td>\n",
              "      <td>0.000</td>\n",
              "      <td>0.000</td>\n",
              "      <td>0.000</td>\n",
              "      <td>0.000</td>\n",
              "      <td>0.000</td>\n",
              "      <td>0.000</td>\n",
              "      <td>0.000</td>\n",
              "      <td>0.000</td>\n",
              "      <td>0.000</td>\n",
              "      <td>0.000</td>\n",
              "      <td>0.000</td>\n",
              "      <td>0.000</td>\n",
              "      <td>0.000</td>\n",
              "      <td>0.000</td>\n",
              "      <td>0.000</td>\n",
              "      <td>0.000</td>\n",
              "      <td>0.781</td>\n",
              "      <td>0.000</td>\n",
              "      <td>0.000</td>\n",
              "      <td>0.000</td>\n",
              "      <td>0.000</td>\n",
              "      <td>0.000</td>\n",
              "      <td>0.000</td>\n",
              "      <td>0.000</td>\n",
              "      <td>0.000</td>\n",
              "      <td>0.000</td>\n",
              "      <td>0.000</td>\n",
              "      <td>0.000</td>\n",
              "      <td>0.219</td>\n",
              "      <td>0.000</td>\n",
              "      <td>0.000</td>\n",
              "      <td>0.000</td>\n",
              "    </tr>\n",
              "  </tbody>\n",
              "</table>\n",
              "<p>5 rows × 167 columns</p>\n",
              "</div>"
            ],
            "text/plain": [
              "   actually   art  artist  asks  author  ...  works  world  year  years  young\n",
              "0     0.000 0.000   0.000 0.000   0.000  ...  0.000  0.000 0.000  0.000  0.000\n",
              "1     0.000 0.000   0.000 0.000   0.000  ...  0.000  0.000 0.000  0.000  0.000\n",
              "2     0.000 0.000   0.000 0.000   0.000  ...  0.000  0.000 0.000  0.000  0.000\n",
              "3     0.000 0.000   0.000 0.000   0.000  ...  0.000  0.000 0.000  0.000  0.000\n",
              "4     0.000 0.000   0.000 0.000   0.000  ...  0.000  0.219 0.000  0.000  0.000\n",
              "\n",
              "[5 rows x 167 columns]"
            ]
          },
          "metadata": {
            "tags": []
          },
          "execution_count": 257
        }
      ]
    },
    {
      "cell_type": "code",
      "metadata": {
        "id": "eEx6DwQd_Rrx",
        "colab_type": "code",
        "colab": {}
      },
      "source": [
        ""
      ],
      "execution_count": 0,
      "outputs": []
    }
  ]
}